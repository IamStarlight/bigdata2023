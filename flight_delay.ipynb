{
 "cells": [
  {
   "cell_type": "code",
   "execution_count": 3,
   "outputs": [],
   "source": [
    "import numpy as np\n",
    "import pandas as pd\n",
    "import matplotlib.pyplot as plt"
   ],
   "metadata": {
    "collapsed": false
   }
  },
  {
   "cell_type": "code",
   "execution_count": 34,
   "outputs": [],
   "source": [
    "import xgboost as xgb\n",
    "from sklearn.metrics import roc_auc_score\n",
    "from sklearn.metrics import roc_curve\n",
    "import matplotlib.pyplot as plt\n",
    "from sklearn.model_selection import GridSearchCV\n",
    "import numpy as np\n",
    "np.set_printoptions(threshold=np.inf)\n",
    "from sklearn.decomposition import PCA\n",
    "from sklearn.cluster import KMeans,DBSCAN\n",
    "from sklearn.cluster import AgglomerativeClustering as ac\n",
    "from sklearn.linear_model import LogisticRegression as LR\n",
    "from sklearn.model import train_test_split as tts\n",
    "from sklearn.metrics import accuracy_score as acc\n",
    "from sklearn import SVC\n",
    "from sklearn import metrics\n",
    "from sklearn.metrics import  plot_roc_curve\n",
    "from sklearn.model_selection import  train_test_split\n",
    "import getdata.FlightDelay as fd\n",
    "import getdata.XgboostModel as xm\n",
    "from sklearn.model_selection import train_test_split\n"
   ],
   "metadata": {
    "collapsed": false
   }
  },
  {
   "cell_type": "code",
   "execution_count": 26,
   "metadata": {},
   "outputs": [],
   "source": [
    "# ——————————读取数据——————————#\n",
    "# 航班数据\n",
    "flight_data_2009 = pd.read_csv('./source/2009.csv',encoding='unicode_escape')\n",
    "# flight_data_2010 = pd.read_csv('./source/2010.csv',encoding='unicode_escape')\n",
    "# flight_data_09_10 = pd.concat(\n",
    "   # [flight_data_2009,flight_data_2010]).reset_index(drop=True)\n",
    "#flight_data_2011 = pd.read_csv('./source/2011.csv',encoding='unicode_escape')\n",
    "#flight_data_2012 = pd.read_csv('./source/2012.csv',encoding='unicode_escape')\n",
    "#flight_data_2013 = pd.read_csv('./source/2013.csv',encoding='unicode_escape')\n",
    "#flight_data_09_13 = pd.concat(\n",
    "#    [flight_data_2009,flight_data_2010,flight_data_2011,flight_data_2012,flight_data_2013]).reset_index(drop=True)\n",
    "\n",
    "#flight_data_2014 = pd.read_csv('./source/2014.csv',encoding='unicode_escape')\n",
    "#flight_data_2015 = pd.read_csv('./source/2015.csv',encoding='unicode_escape')\n",
    "#flight_data_2016 = pd.read_csv('./source/2016.csv',encoding='unicode_escape')\n",
    "#flight_data_2017 = pd.read_csv('./source/2017.csv',encoding='unicode_escape')\n",
    "#flight_data_2018 = pd.read_csv('./source/2018.csv',encoding='unicode_escape')"
   ]
  },
  {
   "cell_type": "code",
   "execution_count": 27,
   "metadata": {},
   "outputs": [
    {
     "data": {
      "text/plain": "            FL_DATE OP_CARRIER  OP_CARRIER_FL_NUM ORIGIN DEST  CRS_DEP_TIME  \\\n0        2009-01-01         XE               1204    DCA  EWR          1100   \n1        2009-01-01         XE               1206    EWR  IAD          1510   \n2        2009-01-01         XE               1207    EWR  DCA          1100   \n3        2009-01-01         XE               1208    DCA  EWR          1240   \n4        2009-01-01         XE               1209    IAD  EWR          1715   \n...             ...        ...                ...    ...  ...           ...   \n6429333  2009-12-31         YV               2846    YUM  PHX           615   \n6429334  2009-12-31         YV               2850    YUM  PHX          1929   \n6429335  2009-12-31         YV               2866    YUM  PHX          1400   \n6429336  2009-12-31         YV               2868    YUM  PHX          1620   \n6429337  2009-12-31         YV               2871    YUM  PHX          1123   \n\n         DEP_TIME  DEP_DELAY  TAXI_OUT  WHEELS_OFF  ...  CRS_ELAPSED_TIME  \\\n0          1058.0       -2.0      18.0      1116.0  ...              62.0   \n1          1509.0       -1.0      28.0      1537.0  ...              82.0   \n2          1059.0       -1.0      20.0      1119.0  ...              70.0   \n3          1249.0        9.0      10.0      1259.0  ...              77.0   \n4          1705.0      -10.0      24.0      1729.0  ...             105.0   \n...           ...        ...       ...         ...  ...               ...   \n6429333     605.0      -10.0      19.0       624.0  ...              67.0   \n6429334    1919.0      -10.0       7.0      1926.0  ...              70.0   \n6429335    1400.0        0.0      29.0      1429.0  ...              55.0   \n6429336    1615.0       -5.0      10.0      1625.0  ...              67.0   \n6429337    1113.0      -10.0      14.0      1127.0  ...              67.0   \n\n         ACTUAL_ELAPSED_TIME  AIR_TIME  DISTANCE  CARRIER_DELAY  \\\n0                       68.0      42.0     199.0            NaN   \n1                       75.0      43.0     213.0            NaN   \n2                       62.0      36.0     199.0            NaN   \n3                       56.0      37.0     199.0            NaN   \n4                       77.0      40.0     213.0            NaN   \n...                      ...       ...       ...            ...   \n6429333                 71.0      39.0     160.0            NaN   \n6429334                 61.0      48.0     160.0            NaN   \n6429335                 70.0      32.0     160.0            0.0   \n6429336                 61.0      45.0     160.0            NaN   \n6429337                 64.0      35.0     160.0            NaN   \n\n         WEATHER_DELAY NAS_DELAY  SECURITY_DELAY  LATE_AIRCRAFT_DELAY  \\\n0                  NaN       NaN             NaN                  NaN   \n1                  NaN       NaN             NaN                  NaN   \n2                  NaN       NaN             NaN                  NaN   \n3                  NaN       NaN             NaN                  NaN   \n4                  NaN       NaN             NaN                  NaN   \n...                ...       ...             ...                  ...   \n6429333            NaN       NaN             NaN                  NaN   \n6429334            NaN       NaN             NaN                  NaN   \n6429335            0.0      15.0             0.0                  0.0   \n6429336            NaN       NaN             NaN                  NaN   \n6429337            NaN       NaN             NaN                  NaN   \n\n         Unnamed: 27  \n0                NaN  \n1                NaN  \n2                NaN  \n3                NaN  \n4                NaN  \n...              ...  \n6429333          NaN  \n6429334          NaN  \n6429335          NaN  \n6429336          NaN  \n6429337          NaN  \n\n[6429338 rows x 28 columns]",
      "text/html": "<div>\n<style scoped>\n    .dataframe tbody tr th:only-of-type {\n        vertical-align: middle;\n    }\n\n    .dataframe tbody tr th {\n        vertical-align: top;\n    }\n\n    .dataframe thead th {\n        text-align: right;\n    }\n</style>\n<table border=\"1\" class=\"dataframe\">\n  <thead>\n    <tr style=\"text-align: right;\">\n      <th></th>\n      <th>FL_DATE</th>\n      <th>OP_CARRIER</th>\n      <th>OP_CARRIER_FL_NUM</th>\n      <th>ORIGIN</th>\n      <th>DEST</th>\n      <th>CRS_DEP_TIME</th>\n      <th>DEP_TIME</th>\n      <th>DEP_DELAY</th>\n      <th>TAXI_OUT</th>\n      <th>WHEELS_OFF</th>\n      <th>...</th>\n      <th>CRS_ELAPSED_TIME</th>\n      <th>ACTUAL_ELAPSED_TIME</th>\n      <th>AIR_TIME</th>\n      <th>DISTANCE</th>\n      <th>CARRIER_DELAY</th>\n      <th>WEATHER_DELAY</th>\n      <th>NAS_DELAY</th>\n      <th>SECURITY_DELAY</th>\n      <th>LATE_AIRCRAFT_DELAY</th>\n      <th>Unnamed: 27</th>\n    </tr>\n  </thead>\n  <tbody>\n    <tr>\n      <th>0</th>\n      <td>2009-01-01</td>\n      <td>XE</td>\n      <td>1204</td>\n      <td>DCA</td>\n      <td>EWR</td>\n      <td>1100</td>\n      <td>1058.0</td>\n      <td>-2.0</td>\n      <td>18.0</td>\n      <td>1116.0</td>\n      <td>...</td>\n      <td>62.0</td>\n      <td>68.0</td>\n      <td>42.0</td>\n      <td>199.0</td>\n      <td>NaN</td>\n      <td>NaN</td>\n      <td>NaN</td>\n      <td>NaN</td>\n      <td>NaN</td>\n      <td>NaN</td>\n    </tr>\n    <tr>\n      <th>1</th>\n      <td>2009-01-01</td>\n      <td>XE</td>\n      <td>1206</td>\n      <td>EWR</td>\n      <td>IAD</td>\n      <td>1510</td>\n      <td>1509.0</td>\n      <td>-1.0</td>\n      <td>28.0</td>\n      <td>1537.0</td>\n      <td>...</td>\n      <td>82.0</td>\n      <td>75.0</td>\n      <td>43.0</td>\n      <td>213.0</td>\n      <td>NaN</td>\n      <td>NaN</td>\n      <td>NaN</td>\n      <td>NaN</td>\n      <td>NaN</td>\n      <td>NaN</td>\n    </tr>\n    <tr>\n      <th>2</th>\n      <td>2009-01-01</td>\n      <td>XE</td>\n      <td>1207</td>\n      <td>EWR</td>\n      <td>DCA</td>\n      <td>1100</td>\n      <td>1059.0</td>\n      <td>-1.0</td>\n      <td>20.0</td>\n      <td>1119.0</td>\n      <td>...</td>\n      <td>70.0</td>\n      <td>62.0</td>\n      <td>36.0</td>\n      <td>199.0</td>\n      <td>NaN</td>\n      <td>NaN</td>\n      <td>NaN</td>\n      <td>NaN</td>\n      <td>NaN</td>\n      <td>NaN</td>\n    </tr>\n    <tr>\n      <th>3</th>\n      <td>2009-01-01</td>\n      <td>XE</td>\n      <td>1208</td>\n      <td>DCA</td>\n      <td>EWR</td>\n      <td>1240</td>\n      <td>1249.0</td>\n      <td>9.0</td>\n      <td>10.0</td>\n      <td>1259.0</td>\n      <td>...</td>\n      <td>77.0</td>\n      <td>56.0</td>\n      <td>37.0</td>\n      <td>199.0</td>\n      <td>NaN</td>\n      <td>NaN</td>\n      <td>NaN</td>\n      <td>NaN</td>\n      <td>NaN</td>\n      <td>NaN</td>\n    </tr>\n    <tr>\n      <th>4</th>\n      <td>2009-01-01</td>\n      <td>XE</td>\n      <td>1209</td>\n      <td>IAD</td>\n      <td>EWR</td>\n      <td>1715</td>\n      <td>1705.0</td>\n      <td>-10.0</td>\n      <td>24.0</td>\n      <td>1729.0</td>\n      <td>...</td>\n      <td>105.0</td>\n      <td>77.0</td>\n      <td>40.0</td>\n      <td>213.0</td>\n      <td>NaN</td>\n      <td>NaN</td>\n      <td>NaN</td>\n      <td>NaN</td>\n      <td>NaN</td>\n      <td>NaN</td>\n    </tr>\n    <tr>\n      <th>...</th>\n      <td>...</td>\n      <td>...</td>\n      <td>...</td>\n      <td>...</td>\n      <td>...</td>\n      <td>...</td>\n      <td>...</td>\n      <td>...</td>\n      <td>...</td>\n      <td>...</td>\n      <td>...</td>\n      <td>...</td>\n      <td>...</td>\n      <td>...</td>\n      <td>...</td>\n      <td>...</td>\n      <td>...</td>\n      <td>...</td>\n      <td>...</td>\n      <td>...</td>\n      <td>...</td>\n    </tr>\n    <tr>\n      <th>6429333</th>\n      <td>2009-12-31</td>\n      <td>YV</td>\n      <td>2846</td>\n      <td>YUM</td>\n      <td>PHX</td>\n      <td>615</td>\n      <td>605.0</td>\n      <td>-10.0</td>\n      <td>19.0</td>\n      <td>624.0</td>\n      <td>...</td>\n      <td>67.0</td>\n      <td>71.0</td>\n      <td>39.0</td>\n      <td>160.0</td>\n      <td>NaN</td>\n      <td>NaN</td>\n      <td>NaN</td>\n      <td>NaN</td>\n      <td>NaN</td>\n      <td>NaN</td>\n    </tr>\n    <tr>\n      <th>6429334</th>\n      <td>2009-12-31</td>\n      <td>YV</td>\n      <td>2850</td>\n      <td>YUM</td>\n      <td>PHX</td>\n      <td>1929</td>\n      <td>1919.0</td>\n      <td>-10.0</td>\n      <td>7.0</td>\n      <td>1926.0</td>\n      <td>...</td>\n      <td>70.0</td>\n      <td>61.0</td>\n      <td>48.0</td>\n      <td>160.0</td>\n      <td>NaN</td>\n      <td>NaN</td>\n      <td>NaN</td>\n      <td>NaN</td>\n      <td>NaN</td>\n      <td>NaN</td>\n    </tr>\n    <tr>\n      <th>6429335</th>\n      <td>2009-12-31</td>\n      <td>YV</td>\n      <td>2866</td>\n      <td>YUM</td>\n      <td>PHX</td>\n      <td>1400</td>\n      <td>1400.0</td>\n      <td>0.0</td>\n      <td>29.0</td>\n      <td>1429.0</td>\n      <td>...</td>\n      <td>55.0</td>\n      <td>70.0</td>\n      <td>32.0</td>\n      <td>160.0</td>\n      <td>0.0</td>\n      <td>0.0</td>\n      <td>15.0</td>\n      <td>0.0</td>\n      <td>0.0</td>\n      <td>NaN</td>\n    </tr>\n    <tr>\n      <th>6429336</th>\n      <td>2009-12-31</td>\n      <td>YV</td>\n      <td>2868</td>\n      <td>YUM</td>\n      <td>PHX</td>\n      <td>1620</td>\n      <td>1615.0</td>\n      <td>-5.0</td>\n      <td>10.0</td>\n      <td>1625.0</td>\n      <td>...</td>\n      <td>67.0</td>\n      <td>61.0</td>\n      <td>45.0</td>\n      <td>160.0</td>\n      <td>NaN</td>\n      <td>NaN</td>\n      <td>NaN</td>\n      <td>NaN</td>\n      <td>NaN</td>\n      <td>NaN</td>\n    </tr>\n    <tr>\n      <th>6429337</th>\n      <td>2009-12-31</td>\n      <td>YV</td>\n      <td>2871</td>\n      <td>YUM</td>\n      <td>PHX</td>\n      <td>1123</td>\n      <td>1113.0</td>\n      <td>-10.0</td>\n      <td>14.0</td>\n      <td>1127.0</td>\n      <td>...</td>\n      <td>67.0</td>\n      <td>64.0</td>\n      <td>35.0</td>\n      <td>160.0</td>\n      <td>NaN</td>\n      <td>NaN</td>\n      <td>NaN</td>\n      <td>NaN</td>\n      <td>NaN</td>\n      <td>NaN</td>\n    </tr>\n  </tbody>\n</table>\n<p>6429338 rows × 28 columns</p>\n</div>"
     },
     "execution_count": 27,
     "metadata": {},
     "output_type": "execute_result"
    }
   ],
   "source": [
    "# 保存数据集\n",
    "flight_data_2009.to_csv('./clear_data/temp_train_data.csv',index=False)\n",
    "flight_data_2009"
   ]
  },
  {
   "cell_type": "markdown",
   "metadata": {},
   "source": [
    "数据集列的含义\n",
    "FL_DATE 航班日期，yy/mm/dd//\n",
    "OP_CARRIER 航空公司标识符//\n",
    "OP_CARRIER_FL_NUM 航班号//\n",
    "ORIGIN 起始机场代码//\n",
    "DEST 目的地机场代码//\n",
    "CRS_DEP_TIME 计划出发时间//\n",
    "DEP_TIME 实际出发时间//\n",
    "DEP_DELAY 出发总延误分钟//\n",
    "TAXI_OUT 从始发机场登机口出发到飞机起飞之间经过的时间，起飞滑行时间\n",
    "WHEELS_OFF 飞机轮子离开地面的时间点\n",
    "WHEELS_ON 飞机轮子接触地面的时间点\n",
    "TAXI_IN 从机轮启动到到达目的地机场登机口所经过的时间，降落滑行时间\n",
    "CRS_ARR_TIME 计划到达时间//\n",
    "ARR_TIME 实际到达时间//\n",
    "ARR_DELAY 到达总延误分钟//\n",
    "CANCELLED 航班取消（1 = 取消）//\n",
    "CANCELLATION_CODE 取消代码 A - 航空公司/承运人；B - 天气；C - 国家航空系统；D - 安全\n",
    "DIVERTED 飞机降落在不合时宜的机场\n",
    "CRS_ELAPSED_TIME 飞行旅行所需的计划时间量//\n",
    "ACTUAL_ELAPSED_TIME AIR_TIME+TAXI_IN+TAXI_OUT\n",
    "AIR_TIME wheels_off 和 wheels_on 时间之间的持续时间\n",
    "DISTANCE 两个机场之间的距离\n",
    "CARRIER_DELAY 几分钟内航空公司造成的延误\n",
    "WEATHER_DELAY 天气原因延误//\n",
    "NAS_DELAY 空气系统造成的延迟\n",
    "SECURITY_DELAY 安全问题造成的延误\n",
    "LATE_AIRCRAFT_DELAY 安检造成的延误"
   ]
  },
  {
   "cell_type": "markdown",
   "metadata": {},
   "source": [
    "1.计划飞行时间（单位：分钟）【间接反映航线距离】\n",
    "2.计划起飞日期&计划到达日期【用以匹配天气信息】yyyy-mm-dd\n",
    "3.起飞延误时间（单位：分钟）负数为提前，正数为延误\n",
    "4.到达延误时间（单位：分钟）\n",
    "5.天气用机场和时间去连接"
   ]
  },
  {
   "cell_type": "code",
   "execution_count": 28,
   "metadata": {},
   "outputs": [],
   "source": [
    "# 读取训练集\n",
    "flight_data = pd.read_csv('./clear_data/temp_train_data.csv')\n",
    "\n",
    "# 重命名列\n",
    "flight_data['航班是否取消'] = flight_data['CANCELLED']\n",
    "\n",
    "flight_data['航班日期'] = flight_data['FL_DATE']\n",
    "flight_data['航空公司'] = flight_data['OP_CARRIER']\n",
    "flight_data['航班号'] = flight_data['OP_CARRIER_FL_NUM']\n",
    "flight_data['出发机场'] = flight_data['ORIGIN']\n",
    "flight_data['到达机场'] = flight_data['DEST']\n",
    "\n",
    "flight_data['计划起飞时间'] = flight_data['CRS_DEP_TIME']\n",
    "flight_data['实际起飞时间'] = flight_data['DEP_TIME']\n",
    "flight_data['出发延误总分钟'] = flight_data['DEP_DELAY']\n",
    "\n",
    "flight_data['计划到达时间'] = flight_data['CRS_ARR_TIME']\n",
    "flight_data['实际到达时间'] = flight_data['ARR_TIME']\n",
    "flight_data['到达延误总分钟'] = flight_data['ARR_DELAY']\n",
    "\n",
    "# 计划飞行时间\n",
    "flight_data['计划飞行时间'] = flight_data['计划到达时间'] - flight_data['计划起飞时间']"
   ]
  },
  {
   "cell_type": "code",
   "execution_count": 29,
   "outputs": [],
   "source": [
    "# 删除用不到的字段\n",
    "del flight_data['FL_DATE']\n",
    "del flight_data['OP_CARRIER']\n",
    "del flight_data['CANCELLED']\n",
    "del flight_data['OP_CARRIER_FL_NUM']\n",
    "del flight_data['ORIGIN']\n",
    "del flight_data['DEST']\n",
    "del flight_data['CRS_DEP_TIME']\n",
    "del flight_data['DEP_TIME']\n",
    "del flight_data['DEP_DELAY']\n",
    "del flight_data['CRS_ARR_TIME']\n",
    "del flight_data['ARR_TIME']\n",
    "del flight_data['ARR_DELAY']\n",
    "del flight_data['LATE_AIRCRAFT_DELAY']\n",
    "del flight_data['SECURITY_DELAY']\n",
    "del flight_data['NAS_DELAY']\n",
    "del flight_data['CARRIER_DELAY']\n",
    "del flight_data['DISTANCE']\n",
    "del flight_data['AIR_TIME']\n",
    "del flight_data['ACTUAL_ELAPSED_TIME']\n",
    "del flight_data['DIVERTED']\n",
    "del flight_data['CANCELLATION_CODE']\n",
    "del flight_data['TAXI_IN']\n",
    "del flight_data['WHEELS_ON']\n",
    "del flight_data['WHEELS_OFF']\n",
    "del flight_data['TAXI_OUT']\n",
    "del flight_data['Unnamed: 27']\n",
    "del flight_data['CRS_ELAPSED_TIME']\n",
    "del flight_data['WEATHER_DELAY']"
   ],
   "metadata": {
    "collapsed": false
   }
  },
  {
   "cell_type": "code",
   "execution_count": 30,
   "metadata": {},
   "outputs": [],
   "source": [
    "# 实际到达时间超过计划到达时间15min或者取消航班作为延误的判断指标，给数据打上标签\n",
    "def isDelay(t,c):\n",
    "    if(t >= 15 or c==1): return 1\n",
    "    else: return 0\n",
    "\n",
    "flight_data['航班是否延误'] = flight_data.apply(\n",
    "    lambda row: isDelay(row['到达延误总分钟'],row['航班是否取消']),axis=1)"
   ]
  },
  {
   "cell_type": "code",
   "execution_count": 31,
   "outputs": [
    {
     "data": {
      "text/plain": "航班是否延误\n0    5171799\n1    1257539\nName: count, dtype: int64"
     },
     "execution_count": 31,
     "metadata": {},
     "output_type": "execute_result"
    }
   ],
   "source": [
    "# 判断正负样本的分布\n",
    "flight_data['航班是否延误'].value_counts()"
   ],
   "metadata": {
    "collapsed": false
   }
  },
  {
   "cell_type": "code",
   "execution_count": 37,
   "outputs": [
    {
     "ename": "ModuleNotFoundError",
     "evalue": "No module named 'missingno'",
     "output_type": "error",
     "traceback": [
      "\u001B[1;31m---------------------------------------------------------------------------\u001B[0m",
      "\u001B[1;31mModuleNotFoundError\u001B[0m                       Traceback (most recent call last)",
      "\u001B[1;32m<ipython-input-37-66e77fe8e7ce>\u001B[0m in \u001B[0;36m<module>\u001B[1;34m\u001B[0m\n\u001B[1;32m----> 1\u001B[1;33m \u001B[1;32mimport\u001B[0m \u001B[0mmissingno\u001B[0m \u001B[1;32mas\u001B[0m \u001B[0mmsn\u001B[0m\u001B[1;33m\u001B[0m\u001B[1;33m\u001B[0m\u001B[0m\n\u001B[0m\u001B[0;32m      2\u001B[0m \u001B[0mmsn\u001B[0m\u001B[1;33m.\u001B[0m\u001B[0mmatrix\u001B[0m\u001B[1;33m(\u001B[0m\u001B[0mflight_data\u001B[0m\u001B[1;33m)\u001B[0m\u001B[1;33m\u001B[0m\u001B[1;33m\u001B[0m\u001B[0m\n",
      "\u001B[1;31mModuleNotFoundError\u001B[0m: No module named 'missingno'"
     ]
    }
   ],
   "source": [
    "# import missingno as msn\n",
    "# msn.matrix(flight_data)"
   ],
   "metadata": {
    "collapsed": false
   }
  },
  {
   "cell_type": "code",
   "execution_count": 32,
   "outputs": [
    {
     "data": {
      "text/plain": "航班是否取消     False\n航班日期       False\n航空公司       False\n航班号        False\n出发机场       False\n到达机场       False\n计划起飞时间     False\n实际起飞时间      True\n出发延误总分钟     True\n计划到达时间     False\n实际到达时间      True\n到达延误总分钟     True\n计划飞行时间     False\n航班是否延误     False\ndtype: bool"
     },
     "execution_count": 32,
     "metadata": {},
     "output_type": "execute_result"
    }
   ],
   "source": [
    "# 看看是否有缺失值\n",
    "flight_data.isnull().any()"
   ],
   "metadata": {
    "collapsed": false
   }
  },
  {
   "cell_type": "code",
   "execution_count": 33,
   "metadata": {},
   "outputs": [],
   "source": [
    "# 缺失值处理\n",
    "flight_data['实际起飞时间'] = flight_data['实际起飞时间'].fillna(flight_data['实际起飞时间'].mean()) #均值填充\n",
    "flight_data['出发延误总分钟'] = flight_data['出发延误总分钟'].fillna(flight_data['出发延误总分钟'].mean()) #均值填充\n",
    "flight_data['实际到达时间'] = flight_data['实际到达时间'].fillna(flight_data['实际到达时间'].mean()) #均值填充\n",
    "flight_data['到达延误总分钟'] = flight_data['到达延误总分钟'].fillna(flight_data['到达延误总分钟'].mean()) #均值填充\n",
    "flight_data['出发延误总分钟'] = flight_data['出发延误总分钟'].fillna(flight_data['出发延误总分钟'].mean()) #均值填充"
   ]
  },
  {
   "cell_type": "code",
   "execution_count": 34,
   "outputs": [
    {
     "data": {
      "text/plain": "         航班是否取消        航班日期 航空公司   航班号 出发机场 到达机场  计划起飞时间  实际起飞时间  出发延误总分钟  \\\n0           0.0  2009-01-01   XE  1204  DCA  EWR    1100  1058.0     -2.0   \n1           0.0  2009-01-01   XE  1206  EWR  IAD    1510  1509.0     -1.0   \n2           0.0  2009-01-01   XE  1207  EWR  DCA    1100  1059.0     -1.0   \n3           0.0  2009-01-01   XE  1208  DCA  EWR    1240  1249.0      9.0   \n4           0.0  2009-01-01   XE  1209  IAD  EWR    1715  1705.0    -10.0   \n...         ...         ...  ...   ...  ...  ...     ...     ...      ...   \n6429333     0.0  2009-12-31   YV  2846  YUM  PHX     615   605.0    -10.0   \n6429334     0.0  2009-12-31   YV  2850  YUM  PHX    1929  1919.0    -10.0   \n6429335     0.0  2009-12-31   YV  2866  YUM  PHX    1400  1400.0      0.0   \n6429336     0.0  2009-12-31   YV  2868  YUM  PHX    1620  1615.0     -5.0   \n6429337     0.0  2009-12-31   YV  2871  YUM  PHX    1123  1113.0    -10.0   \n\n         计划到达时间  实际到达时间  到达延误总分钟  计划飞行时间  航班是否延误  \n0          1202  1206.0      4.0     102       0  \n1          1632  1624.0     -8.0     122       0  \n2          1210  1201.0     -9.0     110       0  \n3          1357  1345.0    -12.0     117       0  \n4          1900  1822.0    -38.0     185       0  \n...         ...     ...      ...     ...     ...  \n6429333     722   716.0     -6.0     107       0  \n6429334    2039  2020.0    -19.0     110       0  \n6429335    1455  1510.0     15.0      55       1  \n6429336    1727  1716.0    -11.0     107       0  \n6429337    1230  1217.0    -13.0     107       0  \n\n[6429338 rows x 14 columns]",
      "text/html": "<div>\n<style scoped>\n    .dataframe tbody tr th:only-of-type {\n        vertical-align: middle;\n    }\n\n    .dataframe tbody tr th {\n        vertical-align: top;\n    }\n\n    .dataframe thead th {\n        text-align: right;\n    }\n</style>\n<table border=\"1\" class=\"dataframe\">\n  <thead>\n    <tr style=\"text-align: right;\">\n      <th></th>\n      <th>航班是否取消</th>\n      <th>航班日期</th>\n      <th>航空公司</th>\n      <th>航班号</th>\n      <th>出发机场</th>\n      <th>到达机场</th>\n      <th>计划起飞时间</th>\n      <th>实际起飞时间</th>\n      <th>出发延误总分钟</th>\n      <th>计划到达时间</th>\n      <th>实际到达时间</th>\n      <th>到达延误总分钟</th>\n      <th>计划飞行时间</th>\n      <th>航班是否延误</th>\n    </tr>\n  </thead>\n  <tbody>\n    <tr>\n      <th>0</th>\n      <td>0.0</td>\n      <td>2009-01-01</td>\n      <td>XE</td>\n      <td>1204</td>\n      <td>DCA</td>\n      <td>EWR</td>\n      <td>1100</td>\n      <td>1058.0</td>\n      <td>-2.0</td>\n      <td>1202</td>\n      <td>1206.0</td>\n      <td>4.0</td>\n      <td>102</td>\n      <td>0</td>\n    </tr>\n    <tr>\n      <th>1</th>\n      <td>0.0</td>\n      <td>2009-01-01</td>\n      <td>XE</td>\n      <td>1206</td>\n      <td>EWR</td>\n      <td>IAD</td>\n      <td>1510</td>\n      <td>1509.0</td>\n      <td>-1.0</td>\n      <td>1632</td>\n      <td>1624.0</td>\n      <td>-8.0</td>\n      <td>122</td>\n      <td>0</td>\n    </tr>\n    <tr>\n      <th>2</th>\n      <td>0.0</td>\n      <td>2009-01-01</td>\n      <td>XE</td>\n      <td>1207</td>\n      <td>EWR</td>\n      <td>DCA</td>\n      <td>1100</td>\n      <td>1059.0</td>\n      <td>-1.0</td>\n      <td>1210</td>\n      <td>1201.0</td>\n      <td>-9.0</td>\n      <td>110</td>\n      <td>0</td>\n    </tr>\n    <tr>\n      <th>3</th>\n      <td>0.0</td>\n      <td>2009-01-01</td>\n      <td>XE</td>\n      <td>1208</td>\n      <td>DCA</td>\n      <td>EWR</td>\n      <td>1240</td>\n      <td>1249.0</td>\n      <td>9.0</td>\n      <td>1357</td>\n      <td>1345.0</td>\n      <td>-12.0</td>\n      <td>117</td>\n      <td>0</td>\n    </tr>\n    <tr>\n      <th>4</th>\n      <td>0.0</td>\n      <td>2009-01-01</td>\n      <td>XE</td>\n      <td>1209</td>\n      <td>IAD</td>\n      <td>EWR</td>\n      <td>1715</td>\n      <td>1705.0</td>\n      <td>-10.0</td>\n      <td>1900</td>\n      <td>1822.0</td>\n      <td>-38.0</td>\n      <td>185</td>\n      <td>0</td>\n    </tr>\n    <tr>\n      <th>...</th>\n      <td>...</td>\n      <td>...</td>\n      <td>...</td>\n      <td>...</td>\n      <td>...</td>\n      <td>...</td>\n      <td>...</td>\n      <td>...</td>\n      <td>...</td>\n      <td>...</td>\n      <td>...</td>\n      <td>...</td>\n      <td>...</td>\n      <td>...</td>\n    </tr>\n    <tr>\n      <th>6429333</th>\n      <td>0.0</td>\n      <td>2009-12-31</td>\n      <td>YV</td>\n      <td>2846</td>\n      <td>YUM</td>\n      <td>PHX</td>\n      <td>615</td>\n      <td>605.0</td>\n      <td>-10.0</td>\n      <td>722</td>\n      <td>716.0</td>\n      <td>-6.0</td>\n      <td>107</td>\n      <td>0</td>\n    </tr>\n    <tr>\n      <th>6429334</th>\n      <td>0.0</td>\n      <td>2009-12-31</td>\n      <td>YV</td>\n      <td>2850</td>\n      <td>YUM</td>\n      <td>PHX</td>\n      <td>1929</td>\n      <td>1919.0</td>\n      <td>-10.0</td>\n      <td>2039</td>\n      <td>2020.0</td>\n      <td>-19.0</td>\n      <td>110</td>\n      <td>0</td>\n    </tr>\n    <tr>\n      <th>6429335</th>\n      <td>0.0</td>\n      <td>2009-12-31</td>\n      <td>YV</td>\n      <td>2866</td>\n      <td>YUM</td>\n      <td>PHX</td>\n      <td>1400</td>\n      <td>1400.0</td>\n      <td>0.0</td>\n      <td>1455</td>\n      <td>1510.0</td>\n      <td>15.0</td>\n      <td>55</td>\n      <td>1</td>\n    </tr>\n    <tr>\n      <th>6429336</th>\n      <td>0.0</td>\n      <td>2009-12-31</td>\n      <td>YV</td>\n      <td>2868</td>\n      <td>YUM</td>\n      <td>PHX</td>\n      <td>1620</td>\n      <td>1615.0</td>\n      <td>-5.0</td>\n      <td>1727</td>\n      <td>1716.0</td>\n      <td>-11.0</td>\n      <td>107</td>\n      <td>0</td>\n    </tr>\n    <tr>\n      <th>6429337</th>\n      <td>0.0</td>\n      <td>2009-12-31</td>\n      <td>YV</td>\n      <td>2871</td>\n      <td>YUM</td>\n      <td>PHX</td>\n      <td>1123</td>\n      <td>1113.0</td>\n      <td>-10.0</td>\n      <td>1230</td>\n      <td>1217.0</td>\n      <td>-13.0</td>\n      <td>107</td>\n      <td>0</td>\n    </tr>\n  </tbody>\n</table>\n<p>6429338 rows × 14 columns</p>\n</div>"
     },
     "execution_count": 34,
     "metadata": {},
     "output_type": "execute_result"
    }
   ],
   "source": [
    "flight_data"
   ],
   "metadata": {
    "collapsed": false
   }
  },
  {
   "cell_type": "code",
   "execution_count": 17,
   "metadata": {},
   "outputs": [],
   "source": [
    "# 读取机场和对应城市\n",
    "airport_city = pd.read_csv('./source/us_airports.csv',encoding='unicode_escape',low_memory=False)"
   ]
  },
  {
   "cell_type": "code",
   "execution_count": 18,
   "outputs": [
    {
     "data": {
      "text/plain": "id                   False\nident                False\ntype                 False\nname                 False\nlatitude_deg         False\nlongitude_deg        False\nelevation_ft          True\ncontinent             True\ncountry_name         False\niso_country          False\nregion_name          False\niso_region           False\nlocal_region         False\nmunicipality          True\nscheduled_service    False\ngps_code              True\niata_code             True\nlocal_code            True\nhome_link             True\nwikipedia_link        True\nkeywords              True\nscore                False\nlast_updated         False\ndtype: bool"
     },
     "execution_count": 18,
     "metadata": {},
     "output_type": "execute_result"
    }
   ],
   "source": [
    "# 看看是否有缺失值\n",
    "airport_city.isnull().any()"
   ],
   "metadata": {
    "collapsed": false
   }
  },
  {
   "cell_type": "code",
   "execution_count": 19,
   "metadata": {},
   "outputs": [],
   "source": [
    "# 处理缺失值\n",
    "airport_city['iata_code'] = airport_city['iata_code'].fillna(\n",
    "    airport_city['iata_code'].value_counts().index[0]) #众数填充"
   ]
  },
  {
   "cell_type": "code",
   "execution_count": 20,
   "outputs": [],
   "source": [
    "# 重命名\n",
    "# colNameDict = {\n",
    "#     'season':'季节',\n",
    "#     'holiday':'节假日',\n",
    "#     'workingday':'工作日',\n",
    "#     'weather':'天气',\n",
    "#     'temp':'摄氏温度',\n",
    "#     'atemp':'体感温度',\n",
    "#     'humidity':'湿度',\n",
    "#     'windspeed':'风速',\n",
    "#     'casual':'非注册用户个数',\n",
    "#     'registered':'注册用户个数',\n",
    "#     'count':'租车总人数'\n",
    "# }\n",
    "# df.rename(columns = colNameDict,inplace=True)\n",
    "airport_city['机场代号'] = airport_city['iata_code']\n",
    "airport_city['地区代号'] = airport_city['local_region']\n",
    "airport_city['地区名字'] = airport_city['region_name']"
   ],
   "metadata": {
    "collapsed": false
   }
  },
  {
   "cell_type": "code",
   "execution_count": 21,
   "outputs": [],
   "source": [
    "# 删除第0行\n",
    "airport_city = airport_city.drop(airport_city.index[0])"
   ],
   "metadata": {
    "collapsed": false
   }
  },
  {
   "cell_type": "code",
   "execution_count": 22,
   "outputs": [
    {
     "data": {
      "text/plain": "Index(['id', 'ident', 'type', 'name', 'latitude_deg', 'longitude_deg',\n       'elevation_ft', 'continent', 'country_name', 'iso_country',\n       'region_name', 'iso_region', 'local_region', 'municipality',\n       'scheduled_service', 'gps_code', 'iata_code', 'local_code', 'home_link',\n       'wikipedia_link', 'keywords', 'score', 'last_updated', '机场代号', '地区代号',\n       '地区名字'],\n      dtype='object')"
     },
     "execution_count": 22,
     "metadata": {},
     "output_type": "execute_result"
    }
   ],
   "source": [
    "airport_city.columns"
   ],
   "metadata": {
    "collapsed": false
   }
  },
  {
   "cell_type": "code",
   "execution_count": 23,
   "outputs": [],
   "source": [
    "del airport_city['id']\n",
    "del airport_city['ident']\n",
    "del airport_city['type']\n",
    "del airport_city['name']\n",
    "del airport_city['latitude_deg']\n",
    "del airport_city['longitude_deg']\n",
    "del airport_city['elevation_ft']\n",
    "del airport_city['continent']\n",
    "del airport_city['country_name']\n",
    "del airport_city['iso_country']\n",
    "del airport_city['region_name']\n",
    "del airport_city['iso_region']\n",
    "del airport_city['local_region']\n",
    "del airport_city['municipality']\n",
    "del airport_city['scheduled_service']\n",
    "del airport_city['gps_code']\n",
    "del airport_city['iata_code']\n",
    "del airport_city['local_code']\n",
    "del airport_city['home_link']\n",
    "del airport_city['wikipedia_link']\n",
    "del airport_city['keywords']\n",
    "del airport_city['score']\n",
    "del airport_city['last_updated']"
   ],
   "metadata": {
    "collapsed": false
   }
  },
  {
   "cell_type": "code",
   "execution_count": 24,
   "outputs": [
    {
     "data": {
      "text/plain": "Index(['机场代号', '地区代号', '地区名字'], dtype='object')"
     },
     "execution_count": 24,
     "metadata": {},
     "output_type": "execute_result"
    }
   ],
   "source": [
    "airport_city.columns"
   ],
   "metadata": {
    "collapsed": false
   }
  },
  {
   "cell_type": "code",
   "execution_count": 35,
   "outputs": [
    {
     "data": {
      "text/plain": "Index(['航班是否取消', '航班日期', '航空公司', '航班号', '出发机场', '到达机场', '计划起飞时间', '实际起飞时间',\n       '出发延误总分钟', '计划到达时间', '实际到达时间', '到达延误总分钟', '计划飞行时间', '航班是否延误'],\n      dtype='object')"
     },
     "execution_count": 35,
     "metadata": {},
     "output_type": "execute_result"
    }
   ],
   "source": [
    "flight_data.columns"
   ],
   "metadata": {
    "collapsed": false
   }
  },
  {
   "cell_type": "code",
   "execution_count": 58,
   "outputs": [],
   "source": [
    "# 拼接机场和对应城市\n",
    "flight_city = pd.merge(flight_data, airport_city,\n",
    "                       left_on=['出发机场'],right_on=['机场代号'],how='left',sort=False)\n",
    "flight_city.rename(columns={'地区代号':'出发地区代号'},inplace=True)\n",
    "flight_city.rename(columns={'地区名字':'出发地区名字'},inplace=True)\n",
    "\n",
    "flight_city = pd.merge(flight_city, airport_city,\n",
    "                       left_on=['到达机场'],right_on=['机场代号'],how='left',sort=False)\n",
    "flight_city.rename(columns={'地区代号':'到达地区代号'},inplace=True)\n",
    "flight_city.rename(columns={'地区名字':'到达地区名字'},inplace=True)\n",
    "\n",
    "del flight_city['机场代号_x']\n",
    "del flight_city['机场代号_y']"
   ],
   "metadata": {
    "collapsed": false
   }
  },
  {
   "cell_type": "code",
   "execution_count": 59,
   "outputs": [],
   "source": [
    "flight_city = flight_city.dropna(axis=0,how='any')"
   ],
   "metadata": {
    "collapsed": false
   }
  },
  {
   "cell_type": "code",
   "execution_count": 60,
   "outputs": [
    {
     "data": {
      "text/plain": "航班是否取消     False\n航班日期       False\n航空公司       False\n航班号        False\n出发机场       False\n到达机场       False\n计划起飞时间     False\n实际起飞时间     False\n出发延误总分钟    False\n计划到达时间     False\n实际到达时间     False\n到达延误总分钟    False\n计划飞行时间     False\n航班是否延误     False\n出发地区代号     False\n出发地区名字     False\n到达地区代号     False\n到达地区名字     False\ndtype: bool"
     },
     "execution_count": 60,
     "metadata": {},
     "output_type": "execute_result"
    }
   ],
   "source": [
    "# flight_city.isnull().any()"
   ],
   "metadata": {
    "collapsed": false
   }
  },
  {
   "cell_type": "code",
   "execution_count": 61,
   "outputs": [],
   "source": [
    "flight_city.to_csv('./clear_data/flight_city_data.csv',index=False)"
   ],
   "metadata": {
    "collapsed": false
   }
  },
  {
   "cell_type": "code",
   "execution_count": 56,
   "outputs": [
    {
     "ename": "AttributeError",
     "evalue": "'function' object has no attribute 'T'",
     "output_type": "error",
     "traceback": [
      "\u001B[1;31m---------------------------------------------------------------------------\u001B[0m",
      "\u001B[1;31mAttributeError\u001B[0m                            Traceback (most recent call last)",
      "Cell \u001B[1;32mIn[56], line 1\u001B[0m\n\u001B[1;32m----> 1\u001B[0m flight_city[\u001B[43mflight_city\u001B[49m\u001B[43m[\u001B[49m\u001B[43m[\u001B[49m\u001B[38;5;124;43m'\u001B[39;49m\u001B[38;5;124;43m机场代号_x\u001B[39;49m\u001B[38;5;124;43m'\u001B[39;49m\u001B[43m]\u001B[49m\u001B[43m]\u001B[49m\u001B[38;5;241;43m.\u001B[39;49m\u001B[43misnull\u001B[49m\u001B[38;5;241;43m.\u001B[39;49m\u001B[43mT\u001B[49m\u001B[38;5;241m.\u001B[39many()]\n",
      "\u001B[1;31mAttributeError\u001B[0m: 'function' object has no attribute 'T'"
     ]
    }
   ],
   "source": [],
   "metadata": {
    "collapsed": false
   }
  },
  {
   "cell_type": "code",
   "execution_count": null,
   "outputs": [],
   "source": [
    "# 抽取随机样本\n"
   ],
   "metadata": {
    "collapsed": false
   }
  },
  {
   "cell_type": "code",
   "execution_count": null,
   "outputs": [],
   "source": [
    "# 做ROC图像\n",
    "# plt.rcParams['font.sans-serif'] = ['Microsoft YaHei']\n",
    "# plt.rcParams['axes.unicode_minus'] = False;\n",
    "#\n",
    "# fig = plt.figure(figsize=(8,8),dpi = 100,facecolor='white',edgecolor='black')\n",
    "# ax.fig.add_subplot(1,1,1)\n",
    "# ax.plot(fpr_CART_Class,c='red')\n",
    "# ax.plot(fpr_lr,tpr_lr,c='orange')\n",
    "# plt.legend(('决策树','logistic回归'),loc = 'best')\n",
    "# plt.show(fig)\n",
    "# fig.savefig('./figure/roc.jpg')\n",
    "# plt.close(fig)"
   ],
   "metadata": {
    "collapsed": false
   }
  },
  {
   "cell_type": "code",
   "execution_count": null,
   "outputs": [],
   "source": [],
   "metadata": {
    "collapsed": false
   }
  },
  {
   "cell_type": "code",
   "execution_count": null,
   "outputs": [],
   "source": [
    "#xgboost\n",
    "\n",
    "# 创建航班延误数据集对象\n",
    "class FlightDelay:\n",
    "    def __init__(self, feature_names, data, target_names, target):\n",
    "        self.feature_names = feature_names\n",
    "        self.data = data\n",
    "        self.target_names = target_names\n",
    "        self.target = target\n"
   ],
   "metadata": {
    "collapsed": false
   }
  },
  {
   "cell_type": "code",
   "execution_count": null,
   "outputs": [],
   "source": [
    "# 读取excel文件(**强烈建议转为csv去处理，否则数据太容易被误改)\n",
    "def getDataSet(url, sheetname):\n",
    "\n",
    "    # 读取路径的xlsx文件\n",
    "    dataFrame = pd.read_excel(url, sheet_name = sheetname)\n",
    "\n",
    "    # 可以打印查看数据的类型是否有str\n",
    "    # dataInfo = dataFrame.info()\n",
    "\n",
    "    # 转为数据矩阵\n",
    "    data_matrix = dataFrame.values\n",
    "\n",
    "    # 获取feature_names,取第一行为feature,使用columns获取列名，然后使用values获取结果，去除掉最后的label列名\n",
    "    feature_names = dataFrame.head(n=0).columns.values[:-1]\n",
    "\n",
    "    # 获取label标签\n",
    "    target_names = dataFrame.head(n=0).columns.values[-1]\n",
    "\n",
    "    # feature特征矩阵data,全部取整，保证离散值足够小\n",
    "    data = data_matrix[:, :-1].astype(int)\n",
    "\n",
    "    # label标签向量，将小数转为整型\n",
    "    target = data_matrix[:, -1].astype(int)\n",
    "\n",
    "    return FlightDelay(feature_names, data, target_names, target)\n",
    "\n",
    "# XGBOOST进行预测\n",
    "\n",
    "# 通用参数：#\n",
    "# booster：我们有两种参数选择，gbtree和gblinear。gbtree是采用树的结构来运行数据，而gblinear是基于线性模型\n",
    "# silent：静默模式，为1时模型运行不输出\n",
    "# nthread: 使用线程数，一般我们设置成-1,使用所有线程。如果有需要，我们设置成多少就是用多少线程\n",
    "\n",
    "# Booster参数：#\n",
    "# n_estimator:num_boosting_rounds 最大的迭代次数\n",
    "# learning_rate: 有时也叫作eta，系统默认值为0.3,每一步迭代的步长，很重要。太大了运行准确率不高，太小了运行速度慢。我们一般使用比默认值小一点，0.1左右就很好\n",
    "# gamma：系统默认为0,在节点分裂时，只有分裂后损失函数的值下降了，才会分裂这个节点。gamma指定了节点分裂所需的最小损失函数下降值。 这个参数的值越大，算法越保守。因为gamma值越大的时候，损失函数下降更多才可以分裂节点。所以树生成的时候更不容易分裂节点\n",
    "# subsample：系统默认为1，这个参数控制对于每棵树，随机采样的比例。减小这个参数的值，算法会更加保守，避免过拟合。但是，如果这个值设置得过小，它可能会导致欠拟合。 典型值：0.5-1，0.5代表平均采样，防止过拟合\n",
    "# colsample_bytree：系统默认值为1。我们一般设置成0.8左右，用来控制每棵随机采样的列数的占比(每一列是一个特征)。 典型值：0.5-1\n",
    "# colsample_bylevel：默认为1,我们也设置为1；这个就相比于前一个更加细致了，它指的是每棵树每次节点分裂的时候列采样的比例\n",
    "# max_depth： 系统默认值为6，我们常用3-10之间的数字。这个值为树的最大深度。这个值是用来控制过拟合的。max_depth越大，模型学习的更加具体。设置为0代表没有限制\n",
    "# max_delta_step：默认0,我们常用0.，这个参数限制了每棵树权重改变的最大步长，如果这个参数的值为0,则意味着没有约束。如果他被赋予了某一个正值，则是这个算法更加保守。通常，这个参数我们不需要设置，但是当个类别的样本极不平衡的时候，这个参数对逻辑回归优化器是很有帮助的。\n",
    "# lambda:也称reg_lambda,默认值为0就，权重的L2正则化项。(和Ridge regression类似)。这个参数是用来控制XGBoost的正则化部分的。这个参数在减少过拟合上很有帮助。\n",
    "# alpha:也称reg_alpha默认为0，权重的L1正则化项。(和Lasso regression类似)。 可以应用在很高维度的情况下，使得算法的速度更快\n",
    "# scale_pos_weight：默认为1，在各类别样本十分不平衡时，把这个参数设定为一个正值，可以使算法更快收敛。通常可以将其设置为负样本的数目与正样本数目的比值\n",
    "\n",
    "# 学习目标参数 #\n",
    "# objective [缺省值=reg:linear]\n",
    "# reg:linear– 线性回归\n",
    "# reg:logistic – 逻辑回归\n",
    "# binary:logistic – 二分类逻辑回归，输出为概率\n",
    "# binary:logitraw – 二分类逻辑回归，输出的结果为wTx\n",
    "# count:poisson – 计数问题的poisson回归，输出结果为poisson分布。在poisson回归中，max_delta_step的缺省值为0.7\n",
    "# multi:softmax – 设置 XGBoost 使用softmax目标函数做多分类，需要设置参数num_class（类别个数），输出为概率最大的分类\n",
    "# multi:softprob – 如同softmax，但是输出结果为ndata*nclass的向量，其中的值是每个数据分为每个类的概率\n",
    "\n",
    "# eval_metric [缺省值=通过目标函数选择]\n",
    "# rmse: 均方根误差(回归问题默认)\n",
    "# mae: 平均绝对值误差\n",
    "# logloss: negative log-likelihood数似然损失，对数损失函数，一般用于分类问题\n",
    "# error: 二分类错误率。其值通过错误分类数目与全部分类数目比值得到。对于预测，预测值大于0.5被认为是正类，其它归为负类（分类问题默认）\n",
    "# merror: 多分类错误率，计算公式为(wrong cases)/(all cases)\n",
    "# mlogloss: 多分类log损失\n",
    "# auc: 曲线下的面积\n",
    "# ndcg: Normalized Discounted Cumulative Gain\n",
    "# map: 平均正确率\n",
    "\n",
    "def inputDataSet(X_train, X_test, y_train, y_test):\n",
    "\n",
    "    # 设置xgboost分类器\n",
    "    xlf = xgb.XGBClassifier(max_depth=6, learning_rate=0.1, n_estimators=1000, objective='binary:logistic',\n",
    "                            nthread=-1, subsample=0.5, colsample_bytree=0.8)\n",
    "\n",
    "    # 训练，verbose标识每迭代一次进行输出，可以指定迭代几次输出\n",
    "    xlf.fit(X_train, y_train, eval_metric='error', verbose=True)\n",
    "\n",
    "    # 预测准确率得分\n",
    "    score = xlf.score(X_test, y_test)\n",
    "    print(\"预测准确率得分 = {:.2f}\".format(score),)\n",
    "\n",
    "    # AUC模型评分\n",
    "    y_pred = xlf.predict_proba(X_test)\n",
    "    auc_score = roc_auc_score(y_test, y_pred[:, 1])\n",
    "    print(\"AUC模型评价 = {:.2f}\".format(auc_score))\n",
    "\n",
    "    # roc曲线可视化输出\n",
    "    roc_function_image(y_test, y_pred)\n",
    "\n",
    "# 可视化的roc评价函数图像\n",
    "def roc_function_image(y_test, y_pred):\n",
    "\n",
    "    # fpr是假阳性率，tpr是真阳性率\n",
    "    fpr, tpr, _ = roc_curve(y_test, y_pred[:, 1])\n",
    "\n",
    "    plt.plot(fpr, tpr, color='darkred')\n",
    "    plt.plot([0, 1], [0, 1], color='grey', lw=1, linestyle='--')\n",
    "    plt.xlabel('False Positive Rate')\n",
    "    plt.ylabel('True Positive Rate')\n",
    "    plt.show()\n",
    "\n",
    "# 导入xlsx文件路径和工作簿名称\n",
    "url = \"./source/2009.csv\"\n",
    "sheet_name = 'DL'\n",
    "\n",
    "# 调用方法获取数据集\n",
    "flightDataSet = fd.getDataSet(url, sheet_name)\n",
    "target_names = flightDataSet.target_names\n",
    "target = flightDataSet.target\n",
    "feature_names = flightDataSet.feature_names\n",
    "data = flightDataSet.data\n",
    "\n",
    "# 使用train_test_split方法获取训练集和测试集，这里二八分，随机种子为1\n",
    "X_train, X_test, y_train, y_test = train_test_split(data, target, test_size=0.2, random_state=1)\n",
    "\n",
    "# 使用xgboost进行模型预测\n",
    "xm.inputDataSet(X_train, X_test, y_train, y_test)"
   ],
   "metadata": {
    "collapsed": false
   }
  }
 ],
 "metadata": {
  "kernelspec": {
   "display_name": "Python 3",
   "language": "python",
   "name": "python3"
  },
  "language_info": {
   "codemirror_mode": {
    "name": "ipython",
    "version": 3
   },
   "file_extension": ".py",
   "mimetype": "text/x-python",
   "name": "python",
   "nbconvert_exporter": "python",
   "pygments_lexer": "ipython3",
   "version": "3.7.6"
  }
 },
 "nbformat": 4,
 "nbformat_minor": 1
}
