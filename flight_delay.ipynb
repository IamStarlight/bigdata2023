{
 "cells": [
  {
   "cell_type": "code",
   "execution_count": 34,
   "metadata": {
    "collapsed": true
   },
   "outputs": [],
   "source": [
    "import numpy as np\n",
    "import pandas as pd\n",
    "import matplotlib.pyplot as plt\n",
    "import xgboost as xgb\n",
    "from sklearn.metrics import roc_auc_score\n",
    "from sklearn.metrics import roc_curve\n",
    "import matplotlib.pyplot as plt\n",
    "from sklearn.model_selection import GridSearchCV\n",
    "import numpy as np\n",
    "np.set_printoptions(threshold=np.inf)\n",
    "from sklearn.decomposition import PCA\n",
    "from sklearn.cluster import KMeans,DBSCAN\n",
    "from sklearn.cluster import AgglomerativeClustering as ac\n",
    "from sklearn.linear_model import LogisticRegression as LR\n",
    "from sklearn.model import train_test_split as tts\n",
    "from sklearn.metrics import accuracy_score as acc\n",
    "from sklearn import SVC\n",
    "from sklearn import metrics\n",
    "from sklearn.metrics import  plot_roc_curve\n",
    "from sklearn.model_selection import  train_test_split"
   ]
  },
  {
   "cell_type": "code",
   "execution_count": 35,
   "metadata": {},
   "outputs": [],
   "source": [
    "# ——————————读取数据——————————#\n",
    "# 航班数据\n",
    "flight_data_2009 = pd.read_csv('./source/2009.csv',encoding='unicode_escape')\n",
    "# flight_data_2010 = pd.read_csv('./source/2010.csv',encoding='unicode_escape')\n",
    "# flight_data_09_10 = pd.concat(\n",
    "   # [flight_data_2009,flight_data_2010]).reset_index(drop=True)\n",
    "#flight_data_2011 = pd.read_csv('./source/2011.csv',encoding='unicode_escape')\n",
    "#flight_data_2012 = pd.read_csv('./source/2012.csv',encoding='unicode_escape')\n",
    "#flight_data_2013 = pd.read_csv('./source/2013.csv',encoding='unicode_escape')\n",
    "#flight_data_09_13 = pd.concat(\n",
    "#    [flight_data_2009,flight_data_2010,flight_data_2011,flight_data_2012,flight_data_2013]).reset_index(drop=True)\n",
    "\n",
    "#flight_data_2014 = pd.read_csv('./source/2014.csv',encoding='unicode_escape')\n",
    "#flight_data_2015 = pd.read_csv('./source/2015.csv',encoding='unicode_escape')\n",
    "#flight_data_2016 = pd.read_csv('./source/2016.csv',encoding='unicode_escape')\n",
    "#flight_data_2017 = pd.read_csv('./source/2017.csv',encoding='unicode_escape')\n",
    "#flight_data_2018 = pd.read_csv('./source/2018.csv',encoding='unicode_escape')"
   ]
  },
  {
   "cell_type": "code",
   "execution_count": 36,
   "metadata": {},
   "outputs": [
    {
     "data": {
      "text/plain": "            FL_DATE OP_CARRIER  OP_CARRIER_FL_NUM ORIGIN DEST  CRS_DEP_TIME  \\\n0        2009-01-01         XE               1204    DCA  EWR          1100   \n1        2009-01-01         XE               1206    EWR  IAD          1510   \n2        2009-01-01         XE               1207    EWR  DCA          1100   \n3        2009-01-01         XE               1208    DCA  EWR          1240   \n4        2009-01-01         XE               1209    IAD  EWR          1715   \n...             ...        ...                ...    ...  ...           ...   \n6429333  2009-12-31         YV               2846    YUM  PHX           615   \n6429334  2009-12-31         YV               2850    YUM  PHX          1929   \n6429335  2009-12-31         YV               2866    YUM  PHX          1400   \n6429336  2009-12-31         YV               2868    YUM  PHX          1620   \n6429337  2009-12-31         YV               2871    YUM  PHX          1123   \n\n         DEP_TIME  DEP_DELAY  TAXI_OUT  WHEELS_OFF  ...  CRS_ELAPSED_TIME  \\\n0          1058.0       -2.0      18.0      1116.0  ...              62.0   \n1          1509.0       -1.0      28.0      1537.0  ...              82.0   \n2          1059.0       -1.0      20.0      1119.0  ...              70.0   \n3          1249.0        9.0      10.0      1259.0  ...              77.0   \n4          1705.0      -10.0      24.0      1729.0  ...             105.0   \n...           ...        ...       ...         ...  ...               ...   \n6429333     605.0      -10.0      19.0       624.0  ...              67.0   \n6429334    1919.0      -10.0       7.0      1926.0  ...              70.0   \n6429335    1400.0        0.0      29.0      1429.0  ...              55.0   \n6429336    1615.0       -5.0      10.0      1625.0  ...              67.0   \n6429337    1113.0      -10.0      14.0      1127.0  ...              67.0   \n\n         ACTUAL_ELAPSED_TIME  AIR_TIME  DISTANCE  CARRIER_DELAY  \\\n0                       68.0      42.0     199.0            NaN   \n1                       75.0      43.0     213.0            NaN   \n2                       62.0      36.0     199.0            NaN   \n3                       56.0      37.0     199.0            NaN   \n4                       77.0      40.0     213.0            NaN   \n...                      ...       ...       ...            ...   \n6429333                 71.0      39.0     160.0            NaN   \n6429334                 61.0      48.0     160.0            NaN   \n6429335                 70.0      32.0     160.0            0.0   \n6429336                 61.0      45.0     160.0            NaN   \n6429337                 64.0      35.0     160.0            NaN   \n\n         WEATHER_DELAY NAS_DELAY  SECURITY_DELAY  LATE_AIRCRAFT_DELAY  \\\n0                  NaN       NaN             NaN                  NaN   \n1                  NaN       NaN             NaN                  NaN   \n2                  NaN       NaN             NaN                  NaN   \n3                  NaN       NaN             NaN                  NaN   \n4                  NaN       NaN             NaN                  NaN   \n...                ...       ...             ...                  ...   \n6429333            NaN       NaN             NaN                  NaN   \n6429334            NaN       NaN             NaN                  NaN   \n6429335            0.0      15.0             0.0                  0.0   \n6429336            NaN       NaN             NaN                  NaN   \n6429337            NaN       NaN             NaN                  NaN   \n\n         Unnamed: 27  \n0                NaN  \n1                NaN  \n2                NaN  \n3                NaN  \n4                NaN  \n...              ...  \n6429333          NaN  \n6429334          NaN  \n6429335          NaN  \n6429336          NaN  \n6429337          NaN  \n\n[6429338 rows x 28 columns]",
      "text/html": "<div>\n<style scoped>\n    .dataframe tbody tr th:only-of-type {\n        vertical-align: middle;\n    }\n\n    .dataframe tbody tr th {\n        vertical-align: top;\n    }\n\n    .dataframe thead th {\n        text-align: right;\n    }\n</style>\n<table border=\"1\" class=\"dataframe\">\n  <thead>\n    <tr style=\"text-align: right;\">\n      <th></th>\n      <th>FL_DATE</th>\n      <th>OP_CARRIER</th>\n      <th>OP_CARRIER_FL_NUM</th>\n      <th>ORIGIN</th>\n      <th>DEST</th>\n      <th>CRS_DEP_TIME</th>\n      <th>DEP_TIME</th>\n      <th>DEP_DELAY</th>\n      <th>TAXI_OUT</th>\n      <th>WHEELS_OFF</th>\n      <th>...</th>\n      <th>CRS_ELAPSED_TIME</th>\n      <th>ACTUAL_ELAPSED_TIME</th>\n      <th>AIR_TIME</th>\n      <th>DISTANCE</th>\n      <th>CARRIER_DELAY</th>\n      <th>WEATHER_DELAY</th>\n      <th>NAS_DELAY</th>\n      <th>SECURITY_DELAY</th>\n      <th>LATE_AIRCRAFT_DELAY</th>\n      <th>Unnamed: 27</th>\n    </tr>\n  </thead>\n  <tbody>\n    <tr>\n      <th>0</th>\n      <td>2009-01-01</td>\n      <td>XE</td>\n      <td>1204</td>\n      <td>DCA</td>\n      <td>EWR</td>\n      <td>1100</td>\n      <td>1058.0</td>\n      <td>-2.0</td>\n      <td>18.0</td>\n      <td>1116.0</td>\n      <td>...</td>\n      <td>62.0</td>\n      <td>68.0</td>\n      <td>42.0</td>\n      <td>199.0</td>\n      <td>NaN</td>\n      <td>NaN</td>\n      <td>NaN</td>\n      <td>NaN</td>\n      <td>NaN</td>\n      <td>NaN</td>\n    </tr>\n    <tr>\n      <th>1</th>\n      <td>2009-01-01</td>\n      <td>XE</td>\n      <td>1206</td>\n      <td>EWR</td>\n      <td>IAD</td>\n      <td>1510</td>\n      <td>1509.0</td>\n      <td>-1.0</td>\n      <td>28.0</td>\n      <td>1537.0</td>\n      <td>...</td>\n      <td>82.0</td>\n      <td>75.0</td>\n      <td>43.0</td>\n      <td>213.0</td>\n      <td>NaN</td>\n      <td>NaN</td>\n      <td>NaN</td>\n      <td>NaN</td>\n      <td>NaN</td>\n      <td>NaN</td>\n    </tr>\n    <tr>\n      <th>2</th>\n      <td>2009-01-01</td>\n      <td>XE</td>\n      <td>1207</td>\n      <td>EWR</td>\n      <td>DCA</td>\n      <td>1100</td>\n      <td>1059.0</td>\n      <td>-1.0</td>\n      <td>20.0</td>\n      <td>1119.0</td>\n      <td>...</td>\n      <td>70.0</td>\n      <td>62.0</td>\n      <td>36.0</td>\n      <td>199.0</td>\n      <td>NaN</td>\n      <td>NaN</td>\n      <td>NaN</td>\n      <td>NaN</td>\n      <td>NaN</td>\n      <td>NaN</td>\n    </tr>\n    <tr>\n      <th>3</th>\n      <td>2009-01-01</td>\n      <td>XE</td>\n      <td>1208</td>\n      <td>DCA</td>\n      <td>EWR</td>\n      <td>1240</td>\n      <td>1249.0</td>\n      <td>9.0</td>\n      <td>10.0</td>\n      <td>1259.0</td>\n      <td>...</td>\n      <td>77.0</td>\n      <td>56.0</td>\n      <td>37.0</td>\n      <td>199.0</td>\n      <td>NaN</td>\n      <td>NaN</td>\n      <td>NaN</td>\n      <td>NaN</td>\n      <td>NaN</td>\n      <td>NaN</td>\n    </tr>\n    <tr>\n      <th>4</th>\n      <td>2009-01-01</td>\n      <td>XE</td>\n      <td>1209</td>\n      <td>IAD</td>\n      <td>EWR</td>\n      <td>1715</td>\n      <td>1705.0</td>\n      <td>-10.0</td>\n      <td>24.0</td>\n      <td>1729.0</td>\n      <td>...</td>\n      <td>105.0</td>\n      <td>77.0</td>\n      <td>40.0</td>\n      <td>213.0</td>\n      <td>NaN</td>\n      <td>NaN</td>\n      <td>NaN</td>\n      <td>NaN</td>\n      <td>NaN</td>\n      <td>NaN</td>\n    </tr>\n    <tr>\n      <th>...</th>\n      <td>...</td>\n      <td>...</td>\n      <td>...</td>\n      <td>...</td>\n      <td>...</td>\n      <td>...</td>\n      <td>...</td>\n      <td>...</td>\n      <td>...</td>\n      <td>...</td>\n      <td>...</td>\n      <td>...</td>\n      <td>...</td>\n      <td>...</td>\n      <td>...</td>\n      <td>...</td>\n      <td>...</td>\n      <td>...</td>\n      <td>...</td>\n      <td>...</td>\n      <td>...</td>\n    </tr>\n    <tr>\n      <th>6429333</th>\n      <td>2009-12-31</td>\n      <td>YV</td>\n      <td>2846</td>\n      <td>YUM</td>\n      <td>PHX</td>\n      <td>615</td>\n      <td>605.0</td>\n      <td>-10.0</td>\n      <td>19.0</td>\n      <td>624.0</td>\n      <td>...</td>\n      <td>67.0</td>\n      <td>71.0</td>\n      <td>39.0</td>\n      <td>160.0</td>\n      <td>NaN</td>\n      <td>NaN</td>\n      <td>NaN</td>\n      <td>NaN</td>\n      <td>NaN</td>\n      <td>NaN</td>\n    </tr>\n    <tr>\n      <th>6429334</th>\n      <td>2009-12-31</td>\n      <td>YV</td>\n      <td>2850</td>\n      <td>YUM</td>\n      <td>PHX</td>\n      <td>1929</td>\n      <td>1919.0</td>\n      <td>-10.0</td>\n      <td>7.0</td>\n      <td>1926.0</td>\n      <td>...</td>\n      <td>70.0</td>\n      <td>61.0</td>\n      <td>48.0</td>\n      <td>160.0</td>\n      <td>NaN</td>\n      <td>NaN</td>\n      <td>NaN</td>\n      <td>NaN</td>\n      <td>NaN</td>\n      <td>NaN</td>\n    </tr>\n    <tr>\n      <th>6429335</th>\n      <td>2009-12-31</td>\n      <td>YV</td>\n      <td>2866</td>\n      <td>YUM</td>\n      <td>PHX</td>\n      <td>1400</td>\n      <td>1400.0</td>\n      <td>0.0</td>\n      <td>29.0</td>\n      <td>1429.0</td>\n      <td>...</td>\n      <td>55.0</td>\n      <td>70.0</td>\n      <td>32.0</td>\n      <td>160.0</td>\n      <td>0.0</td>\n      <td>0.0</td>\n      <td>15.0</td>\n      <td>0.0</td>\n      <td>0.0</td>\n      <td>NaN</td>\n    </tr>\n    <tr>\n      <th>6429336</th>\n      <td>2009-12-31</td>\n      <td>YV</td>\n      <td>2868</td>\n      <td>YUM</td>\n      <td>PHX</td>\n      <td>1620</td>\n      <td>1615.0</td>\n      <td>-5.0</td>\n      <td>10.0</td>\n      <td>1625.0</td>\n      <td>...</td>\n      <td>67.0</td>\n      <td>61.0</td>\n      <td>45.0</td>\n      <td>160.0</td>\n      <td>NaN</td>\n      <td>NaN</td>\n      <td>NaN</td>\n      <td>NaN</td>\n      <td>NaN</td>\n      <td>NaN</td>\n    </tr>\n    <tr>\n      <th>6429337</th>\n      <td>2009-12-31</td>\n      <td>YV</td>\n      <td>2871</td>\n      <td>YUM</td>\n      <td>PHX</td>\n      <td>1123</td>\n      <td>1113.0</td>\n      <td>-10.0</td>\n      <td>14.0</td>\n      <td>1127.0</td>\n      <td>...</td>\n      <td>67.0</td>\n      <td>64.0</td>\n      <td>35.0</td>\n      <td>160.0</td>\n      <td>NaN</td>\n      <td>NaN</td>\n      <td>NaN</td>\n      <td>NaN</td>\n      <td>NaN</td>\n      <td>NaN</td>\n    </tr>\n  </tbody>\n</table>\n<p>6429338 rows × 28 columns</p>\n</div>"
     },
     "execution_count": 36,
     "metadata": {},
     "output_type": "execute_result"
    }
   ],
   "source": [
    "# 保存数据集\n",
    "flight_data_2009.to_csv('./clear_data/temp_train_data.csv',index=False)\n",
    "flight_data_2009"
   ]
  },
  {
   "cell_type": "markdown",
   "metadata": {},
   "source": [
    "数据集列的含义\n",
    "FL_DATE 航班日期，yy/mm/dd//\n",
    "OP_CARRIER 航空公司标识符//\n",
    "OP_CARRIER_FL_NUM 航班号//\n",
    "ORIGIN 起始机场代码//\n",
    "DEST 目的地机场代码//\n",
    "CRS_DEP_TIME 计划出发时间//\n",
    "DEP_TIME 实际出发时间//\n",
    "DEP_DELAY 出发总延误分钟//\n",
    "TAXI_OUT 从始发机场登机口出发到飞机起飞之间经过的时间，起飞滑行时间\n",
    "WHEELS_OFF 飞机轮子离开地面的时间点\n",
    "WHEELS_ON 飞机轮子接触地面的时间点\n",
    "TAXI_IN 从机轮启动到到达目的地机场登机口所经过的时间，降落滑行时间\n",
    "CRS_ARR_TIME 计划到达时间//\n",
    "ARR_TIME 实际到达时间//\n",
    "ARR_DELAY 到达总延误分钟//\n",
    "CANCELLED 航班取消（1 = 取消）//\n",
    "CANCELLATION_CODE 取消代码 A - 航空公司/承运人；B - 天气；C - 国家航空系统；D - 安全\n",
    "DIVERTED 飞机降落在不合时宜的机场\n",
    "CRS_ELAPSED_TIME 飞行旅行所需的计划时间量//\n",
    "ACTUAL_ELAPSED_TIME AIR_TIME+TAXI_IN+TAXI_OUT\n",
    "AIR_TIME wheels_off 和 wheels_on 时间之间的持续时间\n",
    "DISTANCE 两个机场之间的距离\n",
    "CARRIER_DELAY 几分钟内航空公司造成的延误\n",
    "WEATHER_DELAY 天气原因延误//\n",
    "NAS_DELAY 空气系统造成的延迟\n",
    "SECURITY_DELAY 安全问题造成的延误\n",
    "LATE_AIRCRAFT_DELAY 安检造成的延误"
   ]
  },
  {
   "cell_type": "markdown",
   "metadata": {},
   "source": [
    "1.计划飞行时间（单位：分钟）【间接反映航线距离】\n",
    "2.计划起飞日期&计划到达日期【用以匹配天气信息】yyyy-mm-dd\n",
    "3.起飞延误时间（单位：分钟）负数为提前，正数为延误\n",
    "4.到达延误时间（单位：分钟）\n",
    "5.天气用机场和时间去连接"
   ]
  },
  {
   "cell_type": "code",
   "execution_count": 12,
   "metadata": {},
   "outputs": [],
   "source": [
    "# 读取训练集\n",
    "flight_data = pd.read_csv('./clear_data/temp_train_data.csv')\n",
    "\n",
    "# 重命名列\n",
    "flight_data['航班是否取消'] = flight_data['CANCELLED']\n",
    "\n",
    "flight_data['航班日期'] = flight_data['FL_DATE']\n",
    "flight_data['航空公司'] = flight_data['OP_CARRIER']\n",
    "flight_data['航班号'] = flight_data['OP_CARRIER_FL_NUM']\n",
    "flight_data['出发机场'] = flight_data['ORIGIN']\n",
    "flight_data['到达机场'] = flight_data['DEST']\n",
    "\n",
    "flight_data['计划起飞时间'] = flight_data['CRS_DEP_TIME']\n",
    "flight_data['实际起飞时间'] = flight_data['DEP_TIME']\n",
    "flight_data['出发延误总分钟'] = flight_data['DEP_DELAY']\n",
    "\n",
    "flight_data['计划到达时间'] = flight_data['CRS_ARR_TIME']\n",
    "flight_data['实际到达时间'] = flight_data['ARR_TIME']\n",
    "flight_data['到达延误总分钟'] = flight_data['ARR_DELAY']\n",
    "\n",
    "# 计划飞行时间\n",
    "flight_data['计划飞行时间'] = flight_data['计划到达时间'] - flight_data['计划起飞时间']"
   ]
  },
  {
   "cell_type": "code",
   "execution_count": 13,
   "outputs": [],
   "source": [
    "# 删除用不到的字段\n",
    "del flight_data['FL_DATE']\n",
    "del flight_data['OP_CARRIER']\n",
    "del flight_data['CANCELLED']\n",
    "del flight_data['OP_CARRIER_FL_NUM']\n",
    "del flight_data['ORIGIN']\n",
    "del flight_data['DEST']\n",
    "del flight_data['CRS_DEP_TIME']\n",
    "del flight_data['DEP_TIME']\n",
    "del flight_data['DEP_DELAY']\n",
    "del flight_data['CRS_ARR_TIME']\n",
    "del flight_data['ARR_TIME']\n",
    "del flight_data['ARR_DELAY']\n",
    "del flight_data['LATE_AIRCRAFT_DELAY']\n",
    "del flight_data['SECURITY_DELAY']\n",
    "del flight_data['NAS_DELAY']\n",
    "del flight_data['CARRIER_DELAY']\n",
    "del flight_data['DISTANCE']\n",
    "del flight_data['AIR_TIME']\n",
    "del flight_data['ACTUAL_ELAPSED_TIME']\n",
    "del flight_data['DIVERTED']\n",
    "del flight_data['CANCELLATION_CODE']\n",
    "del flight_data['TAXI_IN']\n",
    "del flight_data['WHEELS_ON']\n",
    "del flight_data['WHEELS_OFF']\n",
    "del flight_data['TAXI_OUT']\n",
    "del flight_data['Unnamed: 27']\n",
    "del flight_data['CRS_ELAPSED_TIME']\n",
    "del flight_data['WEATHER_DELAY']"
   ],
   "metadata": {
    "collapsed": false
   }
  },
  {
   "cell_type": "code",
   "execution_count": 14,
   "metadata": {},
   "outputs": [],
   "source": [
    "# 实际到达时间超过计划到达时间15min或者取消航班作为延误的判断指标，给数据打上标签\n",
    "def isDelay(t,c):\n",
    "    if(t >= 15 or c==1): return 1\n",
    "    else: return 0\n",
    "\n",
    "flight_data['航班是否延误'] = flight_data.apply(\n",
    "    lambda row: isDelay(row['到达延误总分钟'],row['航班是否取消']),axis=1)"
   ]
  },
  {
   "cell_type": "code",
   "execution_count": 15,
   "outputs": [
    {
     "data": {
      "text/plain": "0    5171799\n1    1257539\nName: 航班是否延误, dtype: int64"
     },
     "execution_count": 15,
     "metadata": {},
     "output_type": "execute_result"
    }
   ],
   "source": [
    "# 判断正负样本的分布\n",
    "flight_data['航班是否延误'].value_counts()"
   ],
   "metadata": {
    "collapsed": false
   }
  },
  {
   "cell_type": "code",
   "execution_count": 18,
   "outputs": [
    {
     "data": {
      "text/plain": "航班是否取消     False\n航班日期       False\n航空公司       False\n航班号        False\n出发机场       False\n到达机场       False\n计划起飞时间     False\n实际起飞时间      True\n出发延误总分钟     True\n计划到达时间     False\n实际到达时间      True\n到达延误总分钟     True\n计划飞行时间     False\n航班是否延误     False\ndtype: bool"
     },
     "execution_count": 18,
     "metadata": {},
     "output_type": "execute_result"
    }
   ],
   "source": [
    "# 看看是否有缺失值\n",
    "flight_data.isnull().any()"
   ],
   "metadata": {
    "collapsed": false
   }
  },
  {
   "cell_type": "code",
   "execution_count": null,
   "metadata": {},
   "outputs": [],
   "source": [
    "# 缺失值处理\n",
    "flight_data['实际起飞时间'] = flight_data['实际起飞时间'].fillna(flight_data['实际起飞时间'].mean()) #均值填充\n",
    "flight_data['出发延误总分钟'] = flight_data['出发延误总分钟'].fillna(flight_data['出发延误总分钟'].mean()) #均值填充\n",
    "flight_data['实际到达时间'] = flight_data['实际到达时间'].fillna(flight_data['实际到达时间'].mean()) #均值填充\n",
    "flight_data['到达延误总分钟'] = flight_data['到达延误总分钟'].fillna(flight_data['到达延误总分钟'].mean()) #均值填充\n",
    "flight_data['出发延误总分钟'] = flight_data['出发延误总分钟'].fillna(flight_data['出发延误总分钟'].mean()) #均值填充"
   ]
  },
  {
   "cell_type": "code",
   "execution_count": null,
   "metadata": {},
   "outputs": [],
   "source": [
    "# 读取机场和对应城市\n",
    "airport_city = pd.read('./source/us_airports.csv',encoding='unicode_escape',low_memory=False)"
   ]
  },
  {
   "cell_type": "code",
   "execution_count": null,
   "metadata": {},
   "outputs": [],
   "source": [
    "# 处理缺失值\n",
    "airport_city['iata_code'] = airport_city['iata_code'].fillna(\n",
    "    airport_city['iata_code'].value_counts().index[0]) #众数填充\n",
    "airport_city['iata_code'] = airport_city['iata_code'].fillna(\n",
    "    airport_city['iata_code'].value_counts().index[0]) #众数填充"
   ]
  },
  {
   "cell_type": "code",
   "execution_count": null,
   "outputs": [],
   "source": [
    "# 拼接机场和对应城市\n",
    "airport_city['机场编号'] = airport_city['iata_code']\n",
    "del airport_city['iata_code']"
   ],
   "metadata": {
    "collapsed": false
   }
  },
  {
   "cell_type": "code",
   "execution_count": null,
   "outputs": [],
   "source": [
    "# 抽取随机样本\n"
   ],
   "metadata": {
    "collapsed": false
   }
  },
  {
   "cell_type": "code",
   "execution_count": null,
   "outputs": [],
   "source": [
    "# 做ROC图像\n",
    "# plt.rcParams['font.sans-serif'] = ['Microsoft YaHei']\n",
    "# plt.rcParams['axes.unicode_minus'] = False;\n",
    "#\n",
    "# fig = plt.figure(figsize=(8,8),dpi = 100,facecolor='white',edgecolor='black')\n",
    "# ax.fig.add_subplot(1,1,1)\n",
    "# ax.plot(fpr_CART_Class,c='red')\n",
    "# ax.plot(fpr_lr,tpr_lr,c='orange')\n",
    "# plt.legend(('决策树','logistic回归'),loc = 'best')\n",
    "# plt.show(fig)\n",
    "# fig.savefig('./figure/roc.jpg')\n",
    "# plt.close(fig)"
   ],
   "metadata": {
    "collapsed": false
   }
  },
  {
   "cell_type": "code",
   "execution_count": null,
   "outputs": [],
   "source": [],
   "metadata": {
    "collapsed": false
   }
  },
  {
   "cell_type": "code",
   "execution_count": null,
   "outputs": [],
   "source": [],
   "metadata": {
    "collapsed": false
   }
  },
  {
   "cell_type": "code",
   "execution_count": null,
   "outputs": [],
   "source": [],
   "metadata": {
    "collapsed": false
   }
  }
 ],
 "metadata": {
  "kernelspec": {
   "display_name": "Python 3",
   "language": "python",
   "name": "python3"
  },
  "language_info": {
   "codemirror_mode": {
    "name": "ipython",
    "version": 3
   },
   "file_extension": ".py",
   "mimetype": "text/x-python",
   "name": "python",
   "nbconvert_exporter": "python",
   "pygments_lexer": "ipython3",
   "version": "3.7.6"
  }
 },
 "nbformat": 4,
 "nbformat_minor": 1
}
