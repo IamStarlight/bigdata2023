{
 "cells": [
  {
   "cell_type": "code",
   "execution_count": 1,
   "metadata": {
    "collapsed": true
   },
   "outputs": [],
   "source": [
    "import numpy as np\n",
    "import pandas as pd\n",
    "import matplotlib.pyplot as plt"
   ]
  },
  {
   "cell_type": "code",
   "execution_count": 5,
   "metadata": {},
   "outputs": [
    {
     "ename": "ParserError",
     "evalue": "Error tokenizing data. C error: Calling read(nbytes) on source failed. Try engine='python'.",
     "output_type": "error",
     "traceback": [
      "\u001b[1;31m---------------------------------------------------------------------------\u001b[0m",
      "\u001b[1;31mParserError\u001b[0m                               Traceback (most recent call last)",
      "\u001b[1;32m<ipython-input-5-2f4e59590467>\u001b[0m in \u001b[0;36m<module>\u001b[1;34m\u001b[0m\n\u001b[0;32m      1\u001b[0m \u001b[1;31m# ——————————读取数据——————————#\u001b[0m\u001b[1;33m\u001b[0m\u001b[1;33m\u001b[0m\u001b[1;33m\u001b[0m\u001b[0m\n\u001b[0;32m      2\u001b[0m \u001b[1;31m# 航班数据\u001b[0m\u001b[1;33m\u001b[0m\u001b[1;33m\u001b[0m\u001b[1;33m\u001b[0m\u001b[0m\n\u001b[1;32m----> 3\u001b[1;33m \u001b[0mflight_data_2009\u001b[0m \u001b[1;33m=\u001b[0m \u001b[0mpd\u001b[0m\u001b[1;33m.\u001b[0m\u001b[0mread_csv\u001b[0m\u001b[1;33m(\u001b[0m\u001b[1;34m'./source/2009.csv'\u001b[0m\u001b[1;33m,\u001b[0m\u001b[0mencoding\u001b[0m\u001b[1;33m=\u001b[0m\u001b[1;34m'unicode_escape'\u001b[0m\u001b[1;33m)\u001b[0m\u001b[1;33m\u001b[0m\u001b[1;33m\u001b[0m\u001b[0m\n\u001b[0m\u001b[0;32m      4\u001b[0m \u001b[0mflight_data_2010\u001b[0m \u001b[1;33m=\u001b[0m \u001b[0mpd\u001b[0m\u001b[1;33m.\u001b[0m\u001b[0mread_csv\u001b[0m\u001b[1;33m(\u001b[0m\u001b[1;34m'./source/2010.csv'\u001b[0m\u001b[1;33m,\u001b[0m\u001b[0mencoding\u001b[0m\u001b[1;33m=\u001b[0m\u001b[1;34m'unicode_escape'\u001b[0m\u001b[1;33m)\u001b[0m\u001b[1;33m\u001b[0m\u001b[1;33m\u001b[0m\u001b[0m\n\u001b[0;32m      5\u001b[0m flight_data_09_10 = pd.concat(\n",
      "\u001b[1;32mC:\\ProgramData\\Anaconda3\\lib\\site-packages\\pandas\\io\\parsers.py\u001b[0m in \u001b[0;36mparser_f\u001b[1;34m(filepath_or_buffer, sep, delimiter, header, names, index_col, usecols, squeeze, prefix, mangle_dupe_cols, dtype, engine, converters, true_values, false_values, skipinitialspace, skiprows, skipfooter, nrows, na_values, keep_default_na, na_filter, verbose, skip_blank_lines, parse_dates, infer_datetime_format, keep_date_col, date_parser, dayfirst, cache_dates, iterator, chunksize, compression, thousands, decimal, lineterminator, quotechar, quoting, doublequote, escapechar, comment, encoding, dialect, error_bad_lines, warn_bad_lines, delim_whitespace, low_memory, memory_map, float_precision)\u001b[0m\n\u001b[0;32m    674\u001b[0m         )\n\u001b[0;32m    675\u001b[0m \u001b[1;33m\u001b[0m\u001b[0m\n\u001b[1;32m--> 676\u001b[1;33m         \u001b[1;32mreturn\u001b[0m \u001b[0m_read\u001b[0m\u001b[1;33m(\u001b[0m\u001b[0mfilepath_or_buffer\u001b[0m\u001b[1;33m,\u001b[0m \u001b[0mkwds\u001b[0m\u001b[1;33m)\u001b[0m\u001b[1;33m\u001b[0m\u001b[1;33m\u001b[0m\u001b[0m\n\u001b[0m\u001b[0;32m    677\u001b[0m \u001b[1;33m\u001b[0m\u001b[0m\n\u001b[0;32m    678\u001b[0m     \u001b[0mparser_f\u001b[0m\u001b[1;33m.\u001b[0m\u001b[0m__name__\u001b[0m \u001b[1;33m=\u001b[0m \u001b[0mname\u001b[0m\u001b[1;33m\u001b[0m\u001b[1;33m\u001b[0m\u001b[0m\n",
      "\u001b[1;32mC:\\ProgramData\\Anaconda3\\lib\\site-packages\\pandas\\io\\parsers.py\u001b[0m in \u001b[0;36m_read\u001b[1;34m(filepath_or_buffer, kwds)\u001b[0m\n\u001b[0;32m    452\u001b[0m \u001b[1;33m\u001b[0m\u001b[0m\n\u001b[0;32m    453\u001b[0m     \u001b[1;32mtry\u001b[0m\u001b[1;33m:\u001b[0m\u001b[1;33m\u001b[0m\u001b[1;33m\u001b[0m\u001b[0m\n\u001b[1;32m--> 454\u001b[1;33m         \u001b[0mdata\u001b[0m \u001b[1;33m=\u001b[0m \u001b[0mparser\u001b[0m\u001b[1;33m.\u001b[0m\u001b[0mread\u001b[0m\u001b[1;33m(\u001b[0m\u001b[0mnrows\u001b[0m\u001b[1;33m)\u001b[0m\u001b[1;33m\u001b[0m\u001b[1;33m\u001b[0m\u001b[0m\n\u001b[0m\u001b[0;32m    455\u001b[0m     \u001b[1;32mfinally\u001b[0m\u001b[1;33m:\u001b[0m\u001b[1;33m\u001b[0m\u001b[1;33m\u001b[0m\u001b[0m\n\u001b[0;32m    456\u001b[0m         \u001b[0mparser\u001b[0m\u001b[1;33m.\u001b[0m\u001b[0mclose\u001b[0m\u001b[1;33m(\u001b[0m\u001b[1;33m)\u001b[0m\u001b[1;33m\u001b[0m\u001b[1;33m\u001b[0m\u001b[0m\n",
      "\u001b[1;32mC:\\ProgramData\\Anaconda3\\lib\\site-packages\\pandas\\io\\parsers.py\u001b[0m in \u001b[0;36mread\u001b[1;34m(self, nrows)\u001b[0m\n\u001b[0;32m   1131\u001b[0m     \u001b[1;32mdef\u001b[0m \u001b[0mread\u001b[0m\u001b[1;33m(\u001b[0m\u001b[0mself\u001b[0m\u001b[1;33m,\u001b[0m \u001b[0mnrows\u001b[0m\u001b[1;33m=\u001b[0m\u001b[1;32mNone\u001b[0m\u001b[1;33m)\u001b[0m\u001b[1;33m:\u001b[0m\u001b[1;33m\u001b[0m\u001b[1;33m\u001b[0m\u001b[0m\n\u001b[0;32m   1132\u001b[0m         \u001b[0mnrows\u001b[0m \u001b[1;33m=\u001b[0m \u001b[0m_validate_integer\u001b[0m\u001b[1;33m(\u001b[0m\u001b[1;34m\"nrows\"\u001b[0m\u001b[1;33m,\u001b[0m \u001b[0mnrows\u001b[0m\u001b[1;33m)\u001b[0m\u001b[1;33m\u001b[0m\u001b[1;33m\u001b[0m\u001b[0m\n\u001b[1;32m-> 1133\u001b[1;33m         \u001b[0mret\u001b[0m \u001b[1;33m=\u001b[0m \u001b[0mself\u001b[0m\u001b[1;33m.\u001b[0m\u001b[0m_engine\u001b[0m\u001b[1;33m.\u001b[0m\u001b[0mread\u001b[0m\u001b[1;33m(\u001b[0m\u001b[0mnrows\u001b[0m\u001b[1;33m)\u001b[0m\u001b[1;33m\u001b[0m\u001b[1;33m\u001b[0m\u001b[0m\n\u001b[0m\u001b[0;32m   1134\u001b[0m \u001b[1;33m\u001b[0m\u001b[0m\n\u001b[0;32m   1135\u001b[0m         \u001b[1;31m# May alter columns / col_dict\u001b[0m\u001b[1;33m\u001b[0m\u001b[1;33m\u001b[0m\u001b[1;33m\u001b[0m\u001b[0m\n",
      "\u001b[1;32mC:\\ProgramData\\Anaconda3\\lib\\site-packages\\pandas\\io\\parsers.py\u001b[0m in \u001b[0;36mread\u001b[1;34m(self, nrows)\u001b[0m\n\u001b[0;32m   2035\u001b[0m     \u001b[1;32mdef\u001b[0m \u001b[0mread\u001b[0m\u001b[1;33m(\u001b[0m\u001b[0mself\u001b[0m\u001b[1;33m,\u001b[0m \u001b[0mnrows\u001b[0m\u001b[1;33m=\u001b[0m\u001b[1;32mNone\u001b[0m\u001b[1;33m)\u001b[0m\u001b[1;33m:\u001b[0m\u001b[1;33m\u001b[0m\u001b[1;33m\u001b[0m\u001b[0m\n\u001b[0;32m   2036\u001b[0m         \u001b[1;32mtry\u001b[0m\u001b[1;33m:\u001b[0m\u001b[1;33m\u001b[0m\u001b[1;33m\u001b[0m\u001b[0m\n\u001b[1;32m-> 2037\u001b[1;33m             \u001b[0mdata\u001b[0m \u001b[1;33m=\u001b[0m \u001b[0mself\u001b[0m\u001b[1;33m.\u001b[0m\u001b[0m_reader\u001b[0m\u001b[1;33m.\u001b[0m\u001b[0mread\u001b[0m\u001b[1;33m(\u001b[0m\u001b[0mnrows\u001b[0m\u001b[1;33m)\u001b[0m\u001b[1;33m\u001b[0m\u001b[1;33m\u001b[0m\u001b[0m\n\u001b[0m\u001b[0;32m   2038\u001b[0m         \u001b[1;32mexcept\u001b[0m \u001b[0mStopIteration\u001b[0m\u001b[1;33m:\u001b[0m\u001b[1;33m\u001b[0m\u001b[1;33m\u001b[0m\u001b[0m\n\u001b[0;32m   2039\u001b[0m             \u001b[1;32mif\u001b[0m \u001b[0mself\u001b[0m\u001b[1;33m.\u001b[0m\u001b[0m_first_chunk\u001b[0m\u001b[1;33m:\u001b[0m\u001b[1;33m\u001b[0m\u001b[1;33m\u001b[0m\u001b[0m\n",
      "\u001b[1;32mpandas\\_libs\\parsers.pyx\u001b[0m in \u001b[0;36mpandas._libs.parsers.TextReader.read\u001b[1;34m()\u001b[0m\n",
      "\u001b[1;32mpandas\\_libs\\parsers.pyx\u001b[0m in \u001b[0;36mpandas._libs.parsers.TextReader._read_low_memory\u001b[1;34m()\u001b[0m\n",
      "\u001b[1;32mpandas\\_libs\\parsers.pyx\u001b[0m in \u001b[0;36mpandas._libs.parsers.TextReader._read_rows\u001b[1;34m()\u001b[0m\n",
      "\u001b[1;32mpandas\\_libs\\parsers.pyx\u001b[0m in \u001b[0;36mpandas._libs.parsers.TextReader._tokenize_rows\u001b[1;34m()\u001b[0m\n",
      "\u001b[1;32mpandas\\_libs\\parsers.pyx\u001b[0m in \u001b[0;36mpandas._libs.parsers.raise_parser_error\u001b[1;34m()\u001b[0m\n",
      "\u001b[1;31mParserError\u001b[0m: Error tokenizing data. C error: Calling read(nbytes) on source failed. Try engine='python'."
     ]
    }
   ],
   "source": [
    "# ——————————读取数据——————————#\n",
    "# 航班数据\n",
    "flight_data_2009 = pd.read_csv('./source/2009.csv',encoding='unicode_escape')\n",
    "flight_data_2010 = pd.read_csv('./source/2010.csv',encoding='unicode_escape')\n",
    "flight_data_09_10 = pd.concat(\n",
    "    [flight_data_2009,flight_data_2010]).reset_index(drop=True)\n",
    "#flight_data_2011 = pd.read_csv('./source/2011.csv',encoding='unicode_escape')\n",
    "#flight_data_2012 = pd.read_csv('./source/2012.csv',encoding='unicode_escape')\n",
    "#flight_data_2013 = pd.read_csv('./source/2013.csv',encoding='unicode_escape')\n",
    "#flight_data_09_13 = pd.concat(\n",
    "#    [flight_data_2009,flight_data_2010,flight_data_2011,flight_data_2012,flight_data_2013]).reset_index(drop=True)\n",
    "\n",
    "#flight_data_2014 = pd.read_csv('./source/2014.csv',encoding='unicode_escape')\n",
    "#flight_data_2015 = pd.read_csv('./source/2015.csv',encoding='unicode_escape')\n",
    "#flight_data_2016 = pd.read_csv('./source/2016.csv',encoding='unicode_escape')\n",
    "#flight_data_2017 = pd.read_csv('./source/2017.csv',encoding='unicode_escape')\n",
    "#flight_data_2018 = pd.read_csv('./source/2018.csv',encoding='unicode_escape')"
   ]
  },
  {
   "cell_type": "code",
   "execution_count": null,
   "metadata": {},
   "outputs": [],
   "source": [
    "# 保存数据集\n",
    "flight_data_09_10.to_csv('./clear_data/temp_train_data.csv',index=False)\n",
    "flight_data_09_10"
   ]
  },
  {
   "cell_type": "markdown",
   "metadata": {},
   "source": [
    "数据集列的含义\n",
    "FL_DATE 航班日期，yy/mm/dd//\n",
    "OP_CARRIER 航空公司标识符//\n",
    "OP_CARRIER_FL_NUM 航班号//\n",
    "ORIGIN 起始机场代码//\n",
    "DEST 目的地机场代码//\n",
    "CRS_DEP_TIME 计划出发时间//\n",
    "DEP_TIME 实际出发时间//\n",
    "DEP_DELAY 出发总延误分钟//\n",
    "TAXI_OUT 从始发机场登机口出发到飞机起飞之间经过的时间，起飞滑行时间\n",
    "WHEELS_OFF 飞机轮子离开地面的时间点\n",
    "WHEELS_ON 飞机轮子接触地面的时间点\n",
    "TAXI_IN 从机轮启动到到达目的地机场登机口所经过的时间，降落滑行时间\n",
    "CRS_ARR_TIME 计划到达时间//\n",
    "ARR_TIME 实际到达时间//\n",
    "ARR_DELAY 到达总延误分钟//\n",
    "CANCELLED 航班取消（1 = 取消）//\n",
    "CANCELLATION_CODE 取消代码 A - 航空公司/承运人；B - 天气；C - 国家航空系统；D - 安全\n",
    "DIVERTED 飞机降落在不合时宜的机场\n",
    "CRS_ELAPSED_TIME 飞行旅行所需的计划时间量//\n",
    "ACTUAL_ELAPSED_TIME AIR_TIME+TAXI_IN+TAXI_OUT\n",
    "AIR_TIME wheels_off 和 wheels_on 时间之间的持续时间\n",
    "DISTANCE 两个机场之间的距离\n",
    "CARRIER_DELAY 几分钟内航空公司造成的延误\n",
    "WEATHER_DELAY 天气原因延误//\n",
    "NAS_DELAY 空气系统造成的延迟\n",
    "SECURITY_DELAY 安全问题造成的延误\n",
    "LATE_AIRCRAFT_DELAY 安检造成的延误"
   ]
  },
  {
   "cell_type": "markdown",
   "metadata": {},
   "source": [
    "1.计划飞行时间（单位：分钟）【间接反映航线距离】\n",
    "2.计划起飞日期&计划到达日期【用以匹配天气信息】yyyy-mm-dd\n",
    "3.起飞延误时间（单位：分钟）负数为提前，正数为延误\n",
    "4.到达延误时间（单位：分钟）\n",
    "5.天气用机场和时间去连接"
   ]
  },
  {
   "cell_type": "code",
   "execution_count": 2,
   "metadata": {},
   "outputs": [],
   "source": [
    "# 读取训练集\n",
    "flight_data = pd.read_csv('./clear_data/temp_train_data.csv')\n",
    "\n",
    "# 重命名列\n",
    "# flight_data[''] = flight_data['']\n",
    "flight_data['航班是否取消'] = flight_data['CANCELLED']\n",
    "\n",
    "flight_data['航班日期'] = flight_data['FL_DATE']\n",
    "\n",
    "flight_data['航空公司'] = flight_data['OP_CARRIER']\n",
    "flight_data['航班号'] = flight_data['OP_CARRIER_FL_NUM']\n",
    "flight_data['出发机场'] = flight_data['ORIGIN']\n",
    "flight_data['到达机场'] = flight_data['DEST']\n",
    "\n",
    "flight_data['计划起飞时间'] = flight_data['CRS_DEP_TIME']\n",
    "flight_data['实际起飞时间'] = flight_data['DEP_TIME']\n",
    "flight_data['出发延误总分钟'] = flight_data['DEP_DELAY']\n",
    "\n",
    "flight_data['计划到达时间'] = flight_data['CRS_ARR_TIME']\n",
    "flight_data['实际到达时间'] = flight_data['ARR_TIME']\n",
    "flight_data['到达延误总分钟'] = flight_data['ARR_DELAY']\n",
    "\n",
    "# 计划飞行时间\n",
    "flight_data['计划飞行时间'] = flight_data['CRS_ELAPSED_TIME']\n",
    "\n",
    "# 删除用不到的字段\n",
    "# del flight_data['']\n",
    "del flight_data['LATE_AIRCRAFT_DELAY']\n",
    "del flight_data['SECURITY_DELAY']\n",
    "del flight_data['NAS_DELAY']\n",
    "del flight_data['CARRIER_DELAY']\n",
    "del flight_data['DISTANCE']\n",
    "del flight_data['AIR_TIME']\n",
    "del flight_data['ACTUAL_ELAPSED_TIME']\n",
    "del flight_data['DIVERTED']\n",
    "del flight_data['CANCELLATION_CODE']\n",
    "del flight_data['TAXI_IN']\n",
    "del flight_data['WHEELS_ON']\n",
    "del flight_data['WHEELS_OFF']\n",
    "del flight_data['TAXI_OUT']"
   ]
  },
  {
   "cell_type": "code",
   "execution_count": 8,
   "metadata": {},
   "outputs": [],
   "source": [
    "# 实际到达时间超过计划到达时间15min或者取消航班作为延误的判断指标\n",
    "def isDelay(t,c):\n",
    "    if(t > 15 or c==1): return 1\n",
    "    else: return 0\n",
    "\n",
    "flight_data['航班是否延误'] = flight_data.apply(\n",
    "    lambda row: isDelay(row['到达延误总分钟'],row['航班是否取消']),axis=1)\n"
   ]
  },
  {
   "cell_type": "code",
   "execution_count": 9,
   "metadata": {},
   "outputs": [
    {
     "data": {
      "text/plain": [
       "0    10429736\n",
       "1     2449719\n",
       "Name: 航班是否延误, dtype: int64"
      ]
     },
     "execution_count": 9,
     "metadata": {},
     "output_type": "execute_result"
    }
   ],
   "source": [
    "# 判断正负样本的分布\n",
    "flight_data['航班是否延误'].value_counts()\n",
    "# ——————————数据打标签过程——————————#"
   ]
  },
  {
   "cell_type": "code",
   "execution_count": null,
   "metadata": {
    "pycharm": {
     "is_executing": true
    }
   },
   "outputs": [],
   "source": [
    "flight_data['天气延误'] = flight_data['WEATHER_DELAY']\n",
    "def isDelay(t,c,w):\n",
    "    if (t > 15 or c == 1) and w==1: return 1\n",
    "    else: return 0\n",
    "\n",
    "flight_data['航班是否因天气延误'] = flight_data.apply(\n",
    "    lambda row: isDelay(row['到达延误总分钟'],row['航班是否取消'],row['天气延误']),axis=1)\n",
    "flight_data['航班是否因天气延误'].value_counts()"
   ]
  },
  {
   "cell_type": "code",
   "execution_count": null,
   "metadata": {},
   "outputs": [],
   "source": [
    "flight_data.columns"
   ]
  },
  {
   "cell_type": "code",
   "execution_count": null,
   "metadata": {},
   "outputs": [],
   "source": [
    "flight_data.isnull().any()"
   ]
  },
  {
   "cell_type": "code",
   "execution_count": null,
   "metadata": {},
   "outputs": [],
   "source": [
    "# 缺失值处理\n",
    "flight_data['出发延误总分钟'] = flight_data['出发延误总分钟'].fillna(flight_data('出发延误总分钟').mean()) #均值填充\n"
   ]
  }
 ],
 "metadata": {
  "kernelspec": {
   "display_name": "Python 3",
   "language": "python",
   "name": "python3"
  },
  "language_info": {
   "codemirror_mode": {
    "name": "ipython",
    "version": 3
   },
   "file_extension": ".py",
   "mimetype": "text/x-python",
   "name": "python",
   "nbconvert_exporter": "python",
   "pygments_lexer": "ipython3",
   "version": "3.7.6"
  }
 },
 "nbformat": 4,
 "nbformat_minor": 1
}
